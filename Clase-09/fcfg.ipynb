{
 "cells": [
  {
   "cell_type": "markdown",
   "metadata": {},
   "source": [
    "# Gramáticas basadas en rasgos"
   ]
  },
  {
   "cell_type": "markdown",
   "metadata": {},
   "source": [
    "Para esta clase, puede ser de utilidad la siguiente bibliografía:\n",
    "\n",
    "- [NLTK Book: Chapter 9, Building Feature Based Grammars](https://www.nltk.org/book/ch09.html)\n",
    "- [NLTK (documentación de librería): Sample usage for featstruct](https://www.nltk.org/howto/featstruct.html)"
   ]
  },
  {
   "cell_type": "code",
   "execution_count": 1,
   "metadata": {},
   "outputs": [],
   "source": [
    "# importa librería nltk\n",
    "import nltk"
   ]
  },
  {
   "cell_type": "markdown",
   "metadata": {},
   "source": [
    "## Estructuras de rasgos"
   ]
  },
  {
   "cell_type": "markdown",
   "metadata": {},
   "source": [
    "\\begin{equation}\n",
    "\\text{(A) }N = \\begin{bmatrix}\n",
    "\\text{SIGNIFICANTE torta}\\\\\n",
    "\\text{LEXEMA torta}\\\\\n",
    "\\text{CAT N}\\\\\n",
    "\\text{GEN fem}\\\\\n",
    "\\text{PLU -}\\\\\n",
    "\\end{bmatrix}\n",
    "\\end{equation}\n",
    "\n",
    "\\begin{equation}\n",
    "\\text{(B) }N = \\begin{bmatrix}\n",
    "\\text{LEX virus}\\\\\n",
    "\\text{CAT N}\\\\\n",
    "\\text{CONC }\\begin{bmatrix}\n",
    "\\text{NUM [ ]}\\\\\n",
    "\\text{GEN masc}\n",
    "\\end{bmatrix}\n",
    "\\end{bmatrix}\n",
    "\\end{equation}\n",
    "\n",
    "\\begin{equation}\n",
    "\\text{(C) }ADJ = \\begin{bmatrix}\n",
    "\\text{LEX mutantes}\\\\\n",
    "\\text{CAT ADJ}\\\\\n",
    "\\text{CONC }\\begin{bmatrix}\n",
    "\\text{NUM pl}\\\\\n",
    "\\text{GEN masc}\n",
    "\\end{bmatrix}\n",
    "\\end{bmatrix}\n",
    "\\end{equation}"
   ]
  },
  {
   "cell_type": "markdown",
   "metadata": {
    "jp-MarkdownHeadingCollapsed": true,
    "tags": []
   },
   "source": [
    "### Representación con diccionarios"
   ]
  },
  {
   "cell_type": "markdown",
   "metadata": {},
   "source": [
    "Los diccionarios son un tipo de objeto primitivo de Python en el que podemos agregar entradas, llamadas llaves (_keys_), y asignarles un valor o dato asociado (_value_). Un dato importante para la construcción de diccionarios es que estos no pueden tener _keys_ repetidas. En caso de querer insertar una _key_ que ya se encontraba en un diccionario, se sobreescribirá su valor.\n",
    "\n",
    "Podemos aprovechar este objeto para representar una estructura de rasgos."
   ]
  },
  {
   "cell_type": "code",
   "execution_count": 5,
   "metadata": {},
   "outputs": [
    {
     "data": {
      "text/plain": [
       "{'SIGNIFICANTE': 'torta',\n",
       " 'LEXEMA': 'torta',\n",
       " 'CAT': 'N',\n",
       " 'GEN': 'fem',\n",
       " 'PLU': False}"
      ]
     },
     "execution_count": 5,
     "metadata": {},
     "output_type": "execute_result"
    }
   ],
   "source": [
    "fs_a_dict = {\n",
    "    'SIGNIFICANTE':'torta',\n",
    "    'LEXEMA':'torta',\n",
    "    'CAT':'N',\n",
    "    'GEN':'fem',\n",
    "    'PLU':False\n",
    "}\n",
    "fs_a_dict"
   ]
  },
  {
   "cell_type": "code",
   "execution_count": 6,
   "metadata": {},
   "outputs": [
    {
     "data": {
      "text/plain": [
       "'fem'"
      ]
     },
     "execution_count": 6,
     "metadata": {},
     "output_type": "execute_result"
    }
   ],
   "source": [
    "fs_a_dict['GEN']"
   ]
  },
  {
   "cell_type": "code",
   "execution_count": 7,
   "metadata": {},
   "outputs": [
    {
     "data": {
      "text/plain": [
       "{'SIGNIFICANTE': 'torta',\n",
       " 'LEXEMA': 'tortas',\n",
       " 'CAT': 'N',\n",
       " 'GEN': 'fem',\n",
       " 'PLU': True}"
      ]
     },
     "execution_count": 7,
     "metadata": {},
     "output_type": "execute_result"
    }
   ],
   "source": [
    "# sobreescribe un valor\n",
    "\n",
    "fs_a_dict['LEXEMA']='tortas'\n",
    "fs_a_dict['PLU']=True\n",
    "\n",
    "fs_a_dict"
   ]
  },
  {
   "cell_type": "markdown",
   "metadata": {},
   "source": [
    "`True` y `False` son objetos de tipo booleano, permiten indicar que algo es verdadero o falso, respectivamente. Aquí los usamos para indicar si el atributo _PLU_ está presente o no. También podríamos usar un `string` que indicase \"+\" o \"-\", pero este tipo de dato resulta más apropiado para lo que se desea representa."
   ]
  },
  {
   "cell_type": "code",
   "execution_count": 8,
   "metadata": {},
   "outputs": [
    {
     "data": {
      "text/plain": [
       "{}"
      ]
     },
     "execution_count": 8,
     "metadata": {},
     "output_type": "execute_result"
    }
   ],
   "source": [
    "# arma un diccionario vacío\n",
    "\n",
    "fs_b_dict = dict()\n",
    "fs_b_dict"
   ]
  },
  {
   "cell_type": "code",
   "execution_count": 9,
   "metadata": {},
   "outputs": [
    {
     "data": {
      "text/plain": [
       "{'LEX': 'virus'}"
      ]
     },
     "execution_count": 9,
     "metadata": {},
     "output_type": "execute_result"
    }
   ],
   "source": [
    "# agrega rasgos de a uno\n",
    "\n",
    "fs_b_dict['LEX'] = 'virus'\n",
    "fs_b_dict"
   ]
  },
  {
   "cell_type": "code",
   "execution_count": 10,
   "metadata": {},
   "outputs": [
    {
     "data": {
      "text/plain": [
       "{'LEX': 'virus', 'CAT': 'N'}"
      ]
     },
     "execution_count": 10,
     "metadata": {},
     "output_type": "execute_result"
    }
   ],
   "source": [
    "fs_b_dict['CAT'] = 'N'\n",
    "fs_b_dict"
   ]
  },
  {
   "cell_type": "code",
   "execution_count": 11,
   "metadata": {},
   "outputs": [
    {
     "data": {
      "text/plain": [
       "{'LEX': 'virus', 'CAT': 'N', 'CONC': {'NUM': None, 'GEN': 'masc'}}"
      ]
     },
     "execution_count": 11,
     "metadata": {},
     "output_type": "execute_result"
    }
   ],
   "source": [
    "# agrega un rasgo complejo\n",
    "\n",
    "fs_b_dict['CONC'] = {\n",
    "    'NUM':None,\n",
    "    'GEN':'masc'\n",
    "}\n",
    "\n",
    "fs_b_dict"
   ]
  },
  {
   "cell_type": "markdown",
   "metadata": {},
   "source": [
    "`None` es un valor que se utiliza para indicar \"nulo\". Aquí lo usamos para indiar que el atributo _NUM_ no se encuentra especificaco."
   ]
  },
  {
   "cell_type": "code",
   "execution_count": 12,
   "metadata": {},
   "outputs": [
    {
     "data": {
      "text/plain": [
       "{}"
      ]
     },
     "execution_count": 12,
     "metadata": {},
     "output_type": "execute_result"
    }
   ],
   "source": [
    "# arma un diccionario vacío\n",
    "\n",
    "fs_c_dict = dict()\n",
    "fs_c_dict"
   ]
  },
  {
   "cell_type": "code",
   "execution_count": 13,
   "metadata": {},
   "outputs": [
    {
     "data": {
      "text/plain": [
       "{'LEX': 'mutantes', 'CAT': 'ADJ', 'CONC': {'NUM': 'pl', 'GEN': 'masc'}}"
      ]
     },
     "execution_count": 13,
     "metadata": {},
     "output_type": "execute_result"
    }
   ],
   "source": [
    "# actualiza el diccionario vacío\n",
    "# con el contenido de otro diccionario\n",
    "\n",
    "fs_c_dict.update(\n",
    "    {\n",
    "        'LEX': 'mutantes',\n",
    "        'CAT': 'ADJ',\n",
    "        'CONC': {\n",
    "            'NUM': 'pl',\n",
    "            'GEN': 'masc'}\n",
    "    }\n",
    ")\n",
    "\n",
    "fs_c_dict"
   ]
  },
  {
   "cell_type": "markdown",
   "metadata": {},
   "source": [
    "¿Podríamos utilizar el método `update` para realizar la unificación de dos estructuras así representadas? Probémoslo."
   ]
  },
  {
   "cell_type": "code",
   "execution_count": 14,
   "metadata": {},
   "outputs": [
    {
     "data": {
      "text/plain": [
       "{'LEX': 'virus', 'CAT': 'N', 'CONC': {'NUM': None, 'GEN': 'masc'}}"
      ]
     },
     "execution_count": 14,
     "metadata": {},
     "output_type": "execute_result"
    }
   ],
   "source": [
    "fs_sn_dict = dict()\n",
    "fs_sn_dict.update(fs_b_dict)\n",
    "fs_sn_dict"
   ]
  },
  {
   "cell_type": "code",
   "execution_count": 15,
   "metadata": {},
   "outputs": [
    {
     "data": {
      "text/plain": [
       "{'LEX': 'mutantes', 'CAT': 'ADJ', 'CONC': {'NUM': 'pl', 'GEN': 'masc'}}"
      ]
     },
     "execution_count": 15,
     "metadata": {},
     "output_type": "execute_result"
    }
   ],
   "source": [
    "fs_sn_dict.update(fs_c_dict)\n",
    "fs_sn_dict"
   ]
  },
  {
   "cell_type": "markdown",
   "metadata": {},
   "source": [
    "El atributo _CONC_, cuyo atributo _NUM_ se encontraba subespecificado, fue reemplazado con la información más específica de la estructura del ítem léxico \"mutantes\". Sin embargo, este procedimiento también sobreescribió el valor del atributo _CAT_ y le asignó una categoría que no es la quisiéamos ver en ese rasgo.\n",
    "\n",
    "Probemos qué sucede si lo hacemos de manera inversa, primero actualizando con los valores del adjetivo y, luego, del nombre:"
   ]
  },
  {
   "cell_type": "code",
   "execution_count": 16,
   "metadata": {},
   "outputs": [
    {
     "data": {
      "text/plain": [
       "{'LEX': 'mutantes', 'CAT': 'ADJ', 'CONC': {'NUM': 'pl', 'GEN': 'masc'}}"
      ]
     },
     "execution_count": 16,
     "metadata": {},
     "output_type": "execute_result"
    }
   ],
   "source": [
    "fs_sn_dict = dict()\n",
    "fs_sn_dict.update(fs_c_dict)\n",
    "fs_sn_dict"
   ]
  },
  {
   "cell_type": "code",
   "execution_count": 17,
   "metadata": {},
   "outputs": [
    {
     "data": {
      "text/plain": [
       "{'LEX': 'virus', 'CAT': 'N', 'CONC': {'NUM': None, 'GEN': 'masc'}}"
      ]
     },
     "execution_count": 17,
     "metadata": {},
     "output_type": "execute_result"
    }
   ],
   "source": [
    "fs_sn_dict.update(fs_b_dict)\n",
    "fs_sn_dict"
   ]
  },
  {
   "cell_type": "markdown",
   "metadata": {},
   "source": [
    "Ahora tenemos una categoría que se aproxima un poco más a lo que quisiéramos (sin ser el \"SN\" que nos gustaría), pero tenemos subespecificado el atributo _NUM_."
   ]
  },
  {
   "cell_type": "markdown",
   "metadata": {},
   "source": [
    "El método `update`, como recurso para unificar estrucuras, solo resulta útil (y no conlleva efectos indeseados) cuando las estructuras involucradas contienen exactamente los mismo valores asignados a los mismos atributos o tienen rasgos no compartidos (_i.e._ alguna o ambas tiene un par <atributo, valor> que la otra no). Recordemos las estructuras indicadas por Blevins(2011) para \"él\" (D, izq.) y \"canta\" (D, der.)."
   ]
  },
  {
   "cell_type": "markdown",
   "metadata": {},
   "source": [
    "\\begin{equation}\n",
    "\\begin{bmatrix}\n",
    "\\text{PER 3}\\\\\n",
    "\\text{NUM sg}\\\\\n",
    "\\text{GEN masc}\\\\\n",
    "\\text{CASO nom}\n",
    "\\end{bmatrix}\n",
    "\\sqcup\n",
    "\\begin{bmatrix}\n",
    "\\text{PER 3}\\\\\n",
    "\\text{NUM sg}\\\\\n",
    "\\text{CASO nom}\n",
    "\\end{bmatrix}\n",
    "\\end{equation}"
   ]
  },
  {
   "cell_type": "code",
   "execution_count": 76,
   "metadata": {},
   "outputs": [],
   "source": [
    "fs_d_1 = {\n",
    "    'PER':3,\n",
    "    'NUM':'sg',\n",
    "    'GEN':'masc',\n",
    "    'CASO':'nom'\n",
    "}\n",
    "fs_d_2 = {\n",
    "    'PER':3,\n",
    "    'NUM':'sg',\n",
    "    'CASO':'nom'\n",
    "}"
   ]
  },
  {
   "cell_type": "code",
   "execution_count": 19,
   "metadata": {},
   "outputs": [
    {
     "data": {
      "text/plain": [
       "{'PER': 3, 'NUM': 'sg', 'GEN': 'masc', 'CASO': 'nom'}"
      ]
     },
     "execution_count": 19,
     "metadata": {},
     "output_type": "execute_result"
    }
   ],
   "source": [
    "fs_d_1"
   ]
  },
  {
   "cell_type": "code",
   "execution_count": 20,
   "metadata": {},
   "outputs": [
    {
     "data": {
      "text/plain": [
       "{'PER': 3, 'NUM': 'sg', 'CASO': 'nom'}"
      ]
     },
     "execution_count": 20,
     "metadata": {},
     "output_type": "execute_result"
    }
   ],
   "source": [
    "fs_d_2"
   ]
  },
  {
   "cell_type": "code",
   "execution_count": 21,
   "metadata": {},
   "outputs": [
    {
     "data": {
      "text/plain": [
       "{'PER': 3, 'NUM': 'sg', 'GEN': 'masc', 'CASO': 'nom'}"
      ]
     },
     "execution_count": 21,
     "metadata": {},
     "output_type": "execute_result"
    }
   ],
   "source": [
    "fs_d = fs_d_1\n",
    "fs_d.update(fs_d_2)\n",
    "fs_d"
   ]
  },
  {
   "cell_type": "markdown",
   "metadata": {},
   "source": [
    "¿Y cómo podríamos evaluar la subsunción?"
   ]
  },
  {
   "cell_type": "markdown",
   "metadata": {},
   "source": [
    "La comparación de objetos por igualdad nos permite ver si ambos objetos son exatamente iguales, pero no si uno de ellos se encuentra contenido en el otro."
   ]
  },
  {
   "cell_type": "code",
   "execution_count": 22,
   "metadata": {},
   "outputs": [
    {
     "data": {
      "text/plain": [
       "True"
      ]
     },
     "execution_count": 22,
     "metadata": {},
     "output_type": "execute_result"
    }
   ],
   "source": [
    "fs_d_1 == fs_d_1"
   ]
  },
  {
   "cell_type": "code",
   "execution_count": 23,
   "metadata": {},
   "outputs": [
    {
     "data": {
      "text/plain": [
       "False"
      ]
     },
     "execution_count": 23,
     "metadata": {},
     "output_type": "execute_result"
    }
   ],
   "source": [
    "fs_d_2 == fs_d"
   ]
  },
  {
   "cell_type": "markdown",
   "metadata": {},
   "source": [
    "Probemos la siguiente función, implementada para comparar la subsunción entre dos estructuras representadas en un diccionario:"
   ]
  },
  {
   "cell_type": "code",
   "execution_count": 24,
   "metadata": {},
   "outputs": [],
   "source": [
    "def subsumes_dict(general, specific):\n",
    "    # atributos de esturctura general\n",
    "    general_attr = set(general.keys())\n",
    "    # atributos de esturctura específica\n",
    "    specific_attr = set(specific.keys())\n",
    "    # chequea que los atributos de e.general son un subconjunto de e.específica\n",
    "    if general_attr.issubset(specific_attr):\n",
    "        # chequea que los valores de esos atributos sean iguales\n",
    "        # matches es una lista con valores booleanos\n",
    "        # True si los valores son iguales y False si son distintos\n",
    "        matches = [general[attr] == specific[attr] for attr in general_attr]\n",
    "        # all() devuelve True si todos los booleanos de la lista son True\n",
    "        # y False si alguno es False\n",
    "        return all(matches)\n",
    "    # si no, devuelve Falso\n",
    "    # (hay atributos en e.general que no están en e.específica\n",
    "    else:\n",
    "        return False"
   ]
  },
  {
   "cell_type": "code",
   "execution_count": 79,
   "metadata": {},
   "outputs": [
    {
     "data": {
      "text/plain": [
       "False"
      ]
     },
     "execution_count": 79,
     "metadata": {},
     "output_type": "execute_result"
    }
   ],
   "source": [
    "subsumes_dict(fs_d, fs_d_2)"
   ]
  },
  {
   "cell_type": "code",
   "execution_count": 80,
   "metadata": {},
   "outputs": [
    {
     "data": {
      "text/plain": [
       "True"
      ]
     },
     "execution_count": 80,
     "metadata": {},
     "output_type": "execute_result"
    }
   ],
   "source": [
    "subsumes_dict(fs_d_2, fs_d)"
   ]
  },
  {
   "cell_type": "markdown",
   "metadata": {},
   "source": [
    "Ventatas de la representación con diccionarios:\n",
    "\n",
    "- brinda un método sencillo para realizar el proceso de unificación para estructuras atómicas\n",
    "\n",
    "Limitaciones de la representación con diccionarios:\n",
    "\n",
    "- no brinda un método sencillo para realizar el proceso de unificación para estructuras complejas\n",
    "- no brinda un método sencillo para realizar el proceso de subsumción"
   ]
  },
  {
   "cell_type": "markdown",
   "metadata": {
    "jp-MarkdownHeadingCollapsed": true,
    "tags": []
   },
   "source": [
    "### Representación como conjuntos"
   ]
  },
  {
   "cell_type": "markdown",
   "metadata": {},
   "source": [
    "Del mismo modo que intentamos representar estructuras de rasgos mediantes diccionarios, lo intentaremos ahora usando conjuntos y tuplas. Veremos qué posibilidades nos ofrecen sus métodos y cuáles son sus limitaciones.\n",
    "\n",
    "Los conjuntos (`set`) son colecciones no ordenadas de elementos y las tuplas (`tuple`), secuencias ordenadas. Ambos pueden tener tantos elementos como queramos. Nosotros usaremos ambos y propondremos una representación de las estructuras como conjuntos de rasgos (tuplas) <atributo, valor>."
   ]
  },
  {
   "cell_type": "code",
   "execution_count": 30,
   "metadata": {},
   "outputs": [
    {
     "data": {
      "text/plain": [
       "{('CAT', 'N'),\n",
       " ('GEN', 'fem'),\n",
       " ('LEXEMA', 'torta'),\n",
       " ('PLU', False),\n",
       " ('SIGNIFICANTE', 'torta')}"
      ]
     },
     "execution_count": 30,
     "metadata": {},
     "output_type": "execute_result"
    }
   ],
   "source": [
    "fs_a_set = {\n",
    "    ('SIGNIFICANTE','torta'),\n",
    "    ('LEXEMA','torta'),\n",
    "    ('CAT','N'),\n",
    "    ('GEN','fem'),\n",
    "    ('PLU',False)\n",
    "}\n",
    "fs_a_set"
   ]
  },
  {
   "cell_type": "markdown",
   "metadata": {},
   "source": [
    "Notemos que la estructura así generada no respeta, cuando se la imprime, el mismo orden que aquel con el que fue generada. Esto es justamente porque los conjuntos no están ordenados, a pesar de que los elementos que contengan sí lo estén.\n",
    "\n",
    "Otra forma de armar esto mismo puede ser primero armar un conjunto vacío y luego ir añadiendo las tuplas con el método `add`."
   ]
  },
  {
   "cell_type": "code",
   "execution_count": 46,
   "metadata": {},
   "outputs": [
    {
     "data": {
      "text/plain": [
       "set()"
      ]
     },
     "execution_count": 46,
     "metadata": {},
     "output_type": "execute_result"
    }
   ],
   "source": [
    "fs_b_set = set()\n",
    "fs_b_set"
   ]
  },
  {
   "cell_type": "code",
   "execution_count": 47,
   "metadata": {},
   "outputs": [
    {
     "data": {
      "text/plain": [
       "('LEX', 'virus')"
      ]
     },
     "execution_count": 47,
     "metadata": {},
     "output_type": "execute_result"
    }
   ],
   "source": [
    "lex_feature = ('LEX', 'virus')\n",
    "lex_feature"
   ]
  },
  {
   "cell_type": "code",
   "execution_count": 49,
   "metadata": {},
   "outputs": [
    {
     "data": {
      "text/plain": [
       "{('LEX', 'virus')}"
      ]
     },
     "execution_count": 49,
     "metadata": {},
     "output_type": "execute_result"
    }
   ],
   "source": [
    "fs_b_set.add(lex_feature)\n",
    "fs_b_set"
   ]
  },
  {
   "cell_type": "markdown",
   "metadata": {},
   "source": [
    "Para generar un estructura compleja, deberemos usar el tipo de objeto `frozenset` para la estructura interna (contenida) en lugar de `set`. Esto se debe a que los conjuntos del tipo `set`, en Python, no pueden contener objetos mutables. Dado que los objetos `set` son mutables (podemos agregarles y sacarles elementos), no se pueden contener a sí mismos."
   ]
  },
  {
   "cell_type": "code",
   "execution_count": 81,
   "metadata": {},
   "outputs": [
    {
     "data": {
      "text/plain": [
       "{('CAT', 'N'), ('LEX', 'virus'), frozenset({('GEN', 'masc'), ('NUM', None)})}"
      ]
     },
     "execution_count": 81,
     "metadata": {},
     "output_type": "execute_result"
    }
   ],
   "source": [
    "cat_feature = ('CAT', 'N')\n",
    "conc_feature = frozenset([\n",
    "    ('NUM',None),\n",
    "    ('GEN','masc')\n",
    "])\n",
    "\n",
    "for feature in [cat_feature, conc_feature]:\n",
    "    fs_b_set.add(feature)\n",
    "    \n",
    "fs_b_set"
   ]
  },
  {
   "cell_type": "code",
   "execution_count": 61,
   "metadata": {},
   "outputs": [
    {
     "data": {
      "text/plain": [
       "{('CAT', 'ADJ'),\n",
       " ('LEX', 'mutantes'),\n",
       " frozenset({('GEN', 'masc'), ('NUM', 'PLU')})}"
      ]
     },
     "execution_count": 61,
     "metadata": {},
     "output_type": "execute_result"
    }
   ],
   "source": [
    "fs_c_set = {\n",
    "    ('CAT', 'ADJ'),\n",
    "    ('LEX', 'mutantes'),\n",
    "    frozenset([\n",
    "        ('GEN', 'masc'),\n",
    "        ('NUM', 'PLU')\n",
    "    ])\n",
    "}\n",
    "fs_c_set"
   ]
  },
  {
   "cell_type": "markdown",
   "metadata": {},
   "source": [
    "Probemos cómo funcionaría la unificación. Para esto, podemos utilizar el método `union`, propio de los conjuntos en Python. Este método toma dos conjuntos y devuelve, como resultado, el conjunto formado con los elementos de ambos."
   ]
  },
  {
   "cell_type": "code",
   "execution_count": 62,
   "metadata": {},
   "outputs": [
    {
     "data": {
      "text/plain": [
       "{('CAT', 'ADJ'),\n",
       " ('CAT', 'N'),\n",
       " ('LEX', 'mutantes'),\n",
       " ('LEX', 'virus'),\n",
       " frozenset({('GEN', 'masc'), ('NUM', 'PLU')}),\n",
       " frozenset({('GEN', 'masc'), ('NUM', None)})}"
      ]
     },
     "execution_count": 62,
     "metadata": {},
     "output_type": "execute_result"
    }
   ],
   "source": [
    "fs_b_set.union(fs_c_set)"
   ]
  },
  {
   "cell_type": "markdown",
   "metadata": {},
   "source": [
    "¿Y si las estructuras son de tipo atómicas?"
   ]
  },
  {
   "cell_type": "code",
   "execution_count": 65,
   "metadata": {},
   "outputs": [
    {
     "data": {
      "text/plain": [
       "{('CASO', 'nom'), ('GEN', 'masc'), ('NUM', 'sg'), ('PER', 3)}"
      ]
     },
     "execution_count": 65,
     "metadata": {},
     "output_type": "execute_result"
    }
   ],
   "source": [
    "fs_d_1_set = {\n",
    "    ('PER',3),\n",
    "    ('NUM','sg'),\n",
    "    ('GEN','masc'),\n",
    "    ('CASO','nom')\n",
    "}\n",
    "fs_d_2_set = {\n",
    "    ('PER',3),\n",
    "    ('NUM','sg'),\n",
    "    ('CASO','nom')\n",
    "}\n",
    "\n",
    "fs_d_1_set.union(fs_d_1_set)"
   ]
  },
  {
   "cell_type": "markdown",
   "metadata": {},
   "source": [
    "En el caso de subsunción, podemos recurrir al método de `issubset`."
   ]
  },
  {
   "cell_type": "code",
   "execution_count": 66,
   "metadata": {},
   "outputs": [
    {
     "data": {
      "text/plain": [
       "True"
      ]
     },
     "execution_count": 66,
     "metadata": {},
     "output_type": "execute_result"
    }
   ],
   "source": [
    "fs_d_2_set.issubset(fs_d_1_set)"
   ]
  },
  {
   "cell_type": "code",
   "execution_count": 67,
   "metadata": {},
   "outputs": [
    {
     "data": {
      "text/plain": [
       "False"
      ]
     },
     "execution_count": 67,
     "metadata": {},
     "output_type": "execute_result"
    }
   ],
   "source": [
    "fs_d_1_set.issubset(fs_d_2_set)"
   ]
  },
  {
   "cell_type": "markdown",
   "metadata": {},
   "source": [
    "Ventajas por sobre la representación con diccionarios:\n",
    "- brinda un método sencillo para realizar el proceso de subsumción\n",
    "\n",
    "Limitaciones de la representación con conjuntos:\n",
    "\n",
    "- no brinda un método sencillo para realizar el proceso de unificación para estructuras complejas"
   ]
  },
  {
   "cell_type": "markdown",
   "metadata": {
    "jp-MarkdownHeadingCollapsed": true,
    "tags": []
   },
   "source": [
    "### Representación con NLTK"
   ]
  },
  {
   "cell_type": "markdown",
   "metadata": {},
   "source": [
    "La librería `nltk`, por su parte, nos provee con el objeto `FeatStruct`, pensado especialmente para representar estructuras de rasgos. Veamos cómo funciona."
   ]
  },
  {
   "cell_type": "code",
   "execution_count": 126,
   "metadata": {},
   "outputs": [
    {
     "data": {
      "text/plain": [
       "[CAT='N', GEN='fem', LEXEMA='torta', -PLU, SIGNIFICANTE='torta']"
      ]
     },
     "execution_count": 126,
     "metadata": {},
     "output_type": "execute_result"
    }
   ],
   "source": [
    "fs_a_nltk = nltk.FeatStruct(SIGNIFICANTE='torta',LEXEMA='torta',CAT='N',GEN='fem',PLU=False)\n",
    "fs_a_nltk"
   ]
  },
  {
   "cell_type": "markdown",
   "metadata": {},
   "source": [
    "Si queremos indicar que un atributo no tiene un valor específico, debemos usar la indicación `?n`."
   ]
  },
  {
   "cell_type": "code",
   "execution_count": 137,
   "metadata": {},
   "outputs": [
    {
     "data": {
      "text/plain": [
       "[CAT='N', CONC=[GEN='masc', NUM=?n], LEX='virus']"
      ]
     },
     "execution_count": 137,
     "metadata": {},
     "output_type": "execute_result"
    }
   ],
   "source": [
    "fs_b_nltk = nltk.FeatStruct('''[LEX=virus, CAT=N, CONC=[NUM=?n, GEN=masc]]''')\n",
    "fs_b_nltk"
   ]
  },
  {
   "cell_type": "code",
   "execution_count": 128,
   "metadata": {},
   "outputs": [
    {
     "data": {
      "text/plain": [
       "[CAT='ADJ', LEX='mutantes']"
      ]
     },
     "execution_count": 128,
     "metadata": {},
     "output_type": "execute_result"
    }
   ],
   "source": [
    "fs_c_nltk = nltk.FeatStruct(LEX='mutantes',CAT='ADJ')\n",
    "fs_c_nltk"
   ]
  },
  {
   "cell_type": "code",
   "execution_count": 129,
   "metadata": {},
   "outputs": [
    {
     "data": {
      "text/plain": [
       "[CAT='ADJ', CONC=[GEN='masc', NUM='plu'], LEX='mutantes']"
      ]
     },
     "execution_count": 129,
     "metadata": {},
     "output_type": "execute_result"
    }
   ],
   "source": [
    "fs_c_conc = nltk.FeatStruct(NUM='plu',GEN='masc')\n",
    "fs_c_nltk['CONC'] = fs_c_conc\n",
    "fs_c_nltk"
   ]
  },
  {
   "cell_type": "markdown",
   "metadata": {},
   "source": [
    "Para la unificación, NLTK nos provee el método `unify`."
   ]
  },
  {
   "cell_type": "code",
   "execution_count": 95,
   "metadata": {},
   "outputs": [
    {
     "name": "stdout",
     "output_type": "stream",
     "text": [
      "\n",
      "Unification trace:\n",
      "   / [CAT='N', CONC=[GEN='masc', NUM=?n], LEX='virus']\n",
      "  |\\ [CAT='ADJ', CONC=[GEN='masc', NUM='plu'], LEX='mutantes']\n",
      "  |\n",
      "  | Unify feature: CAT\n",
      "  |    / 'N'\n",
      "  |   |\\ 'ADJ'\n",
      "  |   |\n",
      "  X   X <-- FAIL\n"
     ]
    }
   ],
   "source": [
    "fs_b_nltk.unify(fs_c_nltk, trace=1)"
   ]
  },
  {
   "cell_type": "code",
   "execution_count": 98,
   "metadata": {},
   "outputs": [
    {
     "name": "stdout",
     "output_type": "stream",
     "text": [
      "\n",
      "Unification trace:\n",
      "   / [CASO='nom', GEN='masc', NUM='sg', PER=3]\n",
      "  |\\ [GEN='masc', NUM='sg', PER=3]\n",
      "  |\n",
      "  | Unify feature: GEN\n",
      "  |    / 'masc'\n",
      "  |   |\\ 'masc'\n",
      "  |   |\n",
      "  |   +-->'masc'\n",
      "  |\n",
      "  | Unify feature: NUM\n",
      "  |    / 'sg'\n",
      "  |   |\\ 'sg'\n",
      "  |   |\n",
      "  |   +-->'sg'\n",
      "  |\n",
      "  | Unify feature: PER\n",
      "  |    / 3\n",
      "  |   |\\ 3\n",
      "  |   |\n",
      "  |   +-->3\n",
      "  |\n",
      "  +-->[CASO='nom', GEN='masc', NUM='sg', PER=3]\n"
     ]
    },
    {
     "data": {
      "text/plain": [
       "[CASO='nom', GEN='masc', NUM='sg', PER=3]"
      ]
     },
     "execution_count": 98,
     "metadata": {},
     "output_type": "execute_result"
    }
   ],
   "source": [
    "fs_d_1_nltk = nltk.FeatStruct(GEN='masc', NUM='sg', PER=3, CASO='nom')\n",
    "fs_d_2_nltk = nltk.FeatStruct(GEN='masc', NUM='sg', PER=3)\n",
    "\n",
    "fs_d_1_nltk.unify(fs_d_2_nltk, trace=1)"
   ]
  },
  {
   "cell_type": "markdown",
   "metadata": {},
   "source": [
    "Solo para ver qué sucede con los rasgos no especificados, volvamos a probar el caso fallido de \"virus mutantes\" pero eliminando los atributos `CAT` y `LEX`."
   ]
  },
  {
   "cell_type": "code",
   "execution_count": 130,
   "metadata": {},
   "outputs": [
    {
     "data": {
      "text/plain": [
       "[CONC=[GEN='masc', NUM=?n]]"
      ]
     },
     "execution_count": 130,
     "metadata": {},
     "output_type": "execute_result"
    }
   ],
   "source": [
    "_ = fs_b_nltk.pop('CAT')\n",
    "_ = fs_b_nltk.pop('LEX')\n",
    "fs_b_nltk"
   ]
  },
  {
   "cell_type": "code",
   "execution_count": 133,
   "metadata": {},
   "outputs": [
    {
     "data": {
      "text/plain": [
       "[CONC=[GEN='masc', NUM='plu']]"
      ]
     },
     "execution_count": 133,
     "metadata": {},
     "output_type": "execute_result"
    }
   ],
   "source": [
    "_ = fs_c_nltk.pop('CAT')\n",
    "_ = fs_c_nltk.pop('LEX')\n",
    "fs_c_nltk"
   ]
  },
  {
   "cell_type": "code",
   "execution_count": 142,
   "metadata": {},
   "outputs": [
    {
     "name": "stdout",
     "output_type": "stream",
     "text": [
      "\n",
      "Unification trace:\n",
      "   / [CAT='N', CONC=[GEN='masc', NUM=?n], LEX='virus']\n",
      "  |\\ [CONC=[GEN='masc', NUM='plu']]\n",
      "  |\n",
      "  | Unify feature: CONC\n",
      "  |    / [GEN='masc', NUM=?n]\n",
      "  |   |\\ [GEN='masc', NUM='plu']\n",
      "  |   |\n",
      "  |   | Unify feature: CONC.GEN\n",
      "  |   |    / 'masc'\n",
      "  |   |   |\\ 'masc'\n",
      "  |   |   |\n",
      "  |   |   +-->'masc'\n",
      "  |   |\n",
      "  |   | Unify feature: CONC.NUM\n",
      "  |   |    / ?n\n",
      "  |   |   |\\ 'plu'\n",
      "  |   |   |\n",
      "  |   |   +-->Variable('?n')\n",
      "  |   |\n",
      "  |   +-->[GEN='masc', NUM=?n]\n",
      "  |       Bindings: {?n: 'plu'}\n",
      "  |\n",
      "  +-->[CAT='N', CONC=[GEN='masc', NUM='plu'], LEX='virus']\n",
      "      Bindings: {?n: 'plu'}\n"
     ]
    },
    {
     "data": {
      "text/plain": [
       "[CAT='N', CONC=[GEN='masc', NUM='plu'], LEX='virus']"
      ]
     },
     "execution_count": 142,
     "metadata": {},
     "output_type": "execute_result"
    }
   ],
   "source": [
    "binding = dict()\n",
    "fs_b_nltk.unify(fs_c_nltk, bindings=binding, trace=1)"
   ]
  },
  {
   "cell_type": "markdown",
   "metadata": {},
   "source": [
    "También podemos usar el método `subsumes` para evaluar la subsunción de estructuras."
   ]
  },
  {
   "cell_type": "code",
   "execution_count": 146,
   "metadata": {},
   "outputs": [
    {
     "data": {
      "text/plain": [
       "False"
      ]
     },
     "execution_count": 146,
     "metadata": {},
     "output_type": "execute_result"
    }
   ],
   "source": [
    "fs_d_1_nltk.subsumes(fs_d_2_nltk)"
   ]
  },
  {
   "cell_type": "code",
   "execution_count": 147,
   "metadata": {},
   "outputs": [
    {
     "data": {
      "text/plain": [
       "True"
      ]
     },
     "execution_count": 147,
     "metadata": {},
     "output_type": "execute_result"
    }
   ],
   "source": [
    "fs_d_2_nltk.subsumes(fs_d_1_nltk)"
   ]
  },
  {
   "cell_type": "markdown",
   "metadata": {
    "tags": []
   },
   "source": [
    "### Representación con un grafo"
   ]
  },
  {
   "cell_type": "code",
   "execution_count": 235,
   "metadata": {},
   "outputs": [],
   "source": [
    "import networkx as nx\n",
    "import matplotlib.pyplot as plt"
   ]
  },
  {
   "cell_type": "code",
   "execution_count": 411,
   "metadata": {},
   "outputs": [],
   "source": [
    "n = nltk.FeatStruct('''[N=n, M=m, O=[P=p, Q=q], Z=[W=w, X=x]]''')"
   ]
  },
  {
   "cell_type": "code",
   "execution_count": 412,
   "metadata": {},
   "outputs": [
    {
     "data": {
      "text/plain": [
       "[M='m', N='n', O=[P='p', Q='q'], Z=[W='w', X='x']]"
      ]
     },
     "execution_count": 412,
     "metadata": {},
     "output_type": "execute_result"
    }
   ],
   "source": [
    "n"
   ]
  },
  {
   "cell_type": "code",
   "execution_count": 413,
   "metadata": {},
   "outputs": [],
   "source": [
    "g = nx.Graph()"
   ]
  },
  {
   "cell_type": "code",
   "execution_count": 414,
   "metadata": {},
   "outputs": [
    {
     "data": {
      "text/plain": [
       "0"
      ]
     },
     "execution_count": 414,
     "metadata": {},
     "output_type": "execute_result"
    }
   ],
   "source": [
    "len(g.nodes())"
   ]
  },
  {
   "cell_type": "code",
   "execution_count": 421,
   "metadata": {},
   "outputs": [],
   "source": [
    "from nltk.featstruct import FeatDict\n",
    "\n",
    "def plot_graph(graph):\n",
    "    # define la posición de los nodos\n",
    "    pos = nx.spring_layout(graph)\n",
    "    # recupera la información de los atributos (que irá en las aristas)\n",
    "    edges_attrs = nx.get_edge_attributes(graph, 'attribute')\n",
    "    # recupera la información de los valores (que irá en las nodos)\n",
    "    nodes_attrs = nx.get_node_attributes(graph, 'value')\n",
    "    # dibuja el grafo\n",
    "    g = nx.draw(graph, pos=pos, alpha=.5)\n",
    "    # agrega los nombres de los atributos (edges)\n",
    "    g = nx.draw_networkx_edge_labels(graph, pos, edge_labels=edges_attrs)\n",
    "    # agrega los nombres de los valores (nodes)\n",
    "    g = nx.draw_networkx_labels(graph, pos, labels=nodes_attrs)\n",
    "    plt.show()\n",
    "    \n",
    "def build_nodes(graph, fs, source_node, total_prev_nodes):\n",
    "    for node_id, attr in enumerate(fs.keys(), start=total_prev_nodes):\n",
    "        if not isinstance(fs[attr],FeatDict):\n",
    "            graph.add_node(node_id, value=fs[attr])\n",
    "            graph.add_edge(source_node, node_id, attribute=attr)\n",
    "        else:\n",
    "            graph.add_node(node_id)\n",
    "            graph.add_edge(source_node, node_id, attribute=attr)\n",
    "            sub_fs = fs[attr]\n",
    "            sub_prev_nodes = total_prev_nodes + len(fs.keys()) + 2\n",
    "            build_nodes(graph, sub_fs, source_node=node_id, total_prev_nodes=sub_prev_nodes)\n",
    "            \n",
    "            \n",
    "def make_graph(fs):\n",
    "    graph = nx.Graph()\n",
    "    source = 0\n",
    "    graph.add_node(source)\n",
    "    first_node = source + 1 \n",
    "    build_nodes(graph, fs, source, total_prev_nodes=1)\n",
    "    plot_graph(graph)"
   ]
  },
  {
   "cell_type": "code",
   "execution_count": 422,
   "metadata": {},
   "outputs": [
    {
     "data": {
      "image/png": "[encoded data removed]",
      "text/plain": [
       "<Figure size 432x288 with 1 Axes>"
      ]
     },
     "metadata": {},
     "output_type": "display_data"
    }
   ],
   "source": [
    "make_graph(fs_b_nltk)"
   ]
  },
  {
   "cell_type": "code",
   "execution_count": 423,
   "metadata": {},
   "outputs": [
    {
     "data": {
      "image/png": "[encoded data removed]",
      "text/plain": [
       "<Figure size 432x288 with 1 Axes>"
      ]
     },
     "metadata": {},
     "output_type": "display_data"
    }
   ],
   "source": [
    "make_graph(n)"
   ]
  },
  {
   "cell_type": "markdown",
   "metadata": {},
   "source": [
    "## Estructuras de rasgos como funciones"
   ]
  },
  {
   "cell_type": "markdown",
   "metadata": {},
   "source": [
    "> _These simple structures provide the base for a general subsumption relation “$\\sqsubseteq$” which imposes a partial informativeness order on arbitrary feature structures S and T. In Shieber’s formulation, feature structures are treated as partial functions from features to values, so that the expression “S(f)” denotes the value that a structure S assigns to a feature f. Similarly,\n",
    "dom(S) denotes the domain of features to which a structure S assigns a value. The expression “S(p)” denotes the value assigned a sequence or path of attributes. Applying a feature structure S to a path (fg) provides a convenient reference to the value obtained by applying S successively to f and g._\n",
    "(Blevins, 2011: 306)"
   ]
  },
  {
   "cell_type": "markdown",
   "metadata": {},
   "source": [
    "El objeto `FeatStruct` que nos ofrece NLTK nos permite obtener el valor asociado a un atributo fácilmente."
   ]
  },
  {
   "cell_type": "code",
   "execution_count": 152,
   "metadata": {},
   "outputs": [
    {
     "data": {
      "text/plain": [
       "'N'"
      ]
     },
     "execution_count": 152,
     "metadata": {},
     "output_type": "execute_result"
    }
   ],
   "source": [
    "fs_b_nltk['CAT']"
   ]
  },
  {
   "cell_type": "code",
   "execution_count": 153,
   "metadata": {},
   "outputs": [
    {
     "data": {
      "text/plain": [
       "[GEN='masc', NUM=?n]"
      ]
     },
     "execution_count": 153,
     "metadata": {},
     "output_type": "execute_result"
    }
   ],
   "source": [
    "fs_b_nltk['CONC']"
   ]
  },
  {
   "cell_type": "code",
   "execution_count": 154,
   "metadata": {},
   "outputs": [
    {
     "data": {
      "text/plain": [
       "'masc'"
      ]
     },
     "execution_count": 154,
     "metadata": {},
     "output_type": "execute_result"
    }
   ],
   "source": [
    "fs_b_nltk['CONC']['GEN']"
   ]
  },
  {
   "cell_type": "markdown",
   "metadata": {},
   "source": [
    "Sin embargo, esto no es una función. Veamos cómo sería implementar una función."
   ]
  },
  {
   "cell_type": "code",
   "execution_count": 157,
   "metadata": {},
   "outputs": [],
   "source": [
    "def fstruct(attribute):\n",
    "    value = fs_b_nltk[attribute]\n",
    "    return value"
   ]
  },
  {
   "cell_type": "code",
   "execution_count": 158,
   "metadata": {},
   "outputs": [
    {
     "data": {
      "text/plain": [
       "'N'"
      ]
     },
     "execution_count": 158,
     "metadata": {},
     "output_type": "execute_result"
    }
   ],
   "source": [
    "fstruct('CAT')"
   ]
  },
  {
   "cell_type": "code",
   "execution_count": 159,
   "metadata": {},
   "outputs": [
    {
     "data": {
      "text/plain": [
       "[GEN='masc', NUM=?n]"
      ]
     },
     "execution_count": 159,
     "metadata": {},
     "output_type": "execute_result"
    }
   ],
   "source": [
    "fstruct('CONC')"
   ]
  },
  {
   "cell_type": "markdown",
   "metadata": {},
   "source": [
    "Esta función, no obstante, no nos permite \"caminar\" por la estructura. Solo toma un único atributo y devuelve su valor."
   ]
  },
  {
   "cell_type": "code",
   "execution_count": 160,
   "metadata": {},
   "outputs": [
    {
     "ename": "TypeError",
     "evalue": "fstruct() takes 1 positional argument but 2 were given",
     "output_type": "error",
     "traceback": [
      "\u001b[0;31m---------------------------------------------------------------------------\u001b[0m",
      "\u001b[0;31mTypeError\u001b[0m                                 Traceback (most recent call last)",
      "Input \u001b[0;32mIn [160]\u001b[0m, in \u001b[0;36m<cell line: 1>\u001b[0;34m()\u001b[0m\n\u001b[0;32m----> 1\u001b[0m \u001b[43mfstruct\u001b[49m\u001b[43m(\u001b[49m\u001b[38;5;124;43m'\u001b[39;49m\u001b[38;5;124;43mCONC\u001b[39;49m\u001b[38;5;124;43m'\u001b[39;49m\u001b[43m,\u001b[49m\u001b[38;5;124;43m'\u001b[39;49m\u001b[38;5;124;43mGEN\u001b[39;49m\u001b[38;5;124;43m'\u001b[39;49m\u001b[43m)\u001b[49m\n",
      "\u001b[0;31mTypeError\u001b[0m: fstruct() takes 1 positional argument but 2 were given"
     ]
    }
   ],
   "source": [
    "fstruct('CONC','GEN')"
   ]
  },
  {
   "cell_type": "markdown",
   "metadata": {},
   "source": [
    "Usando un asterisco (\\*) antes del parámetro `attribute` podemos indicarle a la función que reciba más de un atributo. Todos los atributos que le indiquemos, serán guardados en una tupla sobre la que podremos iterar."
   ]
  },
  {
   "cell_type": "code",
   "execution_count": 163,
   "metadata": {},
   "outputs": [],
   "source": [
    "def example(*args):\n",
    "    return args"
   ]
  },
  {
   "cell_type": "code",
   "execution_count": 165,
   "metadata": {},
   "outputs": [
    {
     "data": {
      "text/plain": [
       "('a', 'b', 'c')"
      ]
     },
     "execution_count": 165,
     "metadata": {},
     "output_type": "execute_result"
    }
   ],
   "source": [
    "example('a','b','c')"
   ]
  },
  {
   "cell_type": "code",
   "execution_count": 167,
   "metadata": {},
   "outputs": [],
   "source": [
    "def fstruct(*attributes):\n",
    "    value = fs_b_nltk\n",
    "    for attr in attributes:\n",
    "        value = value[attr]\n",
    "    return value"
   ]
  },
  {
   "cell_type": "code",
   "execution_count": 168,
   "metadata": {},
   "outputs": [
    {
     "data": {
      "text/plain": [
       "[GEN='masc', NUM=?n]"
      ]
     },
     "execution_count": 168,
     "metadata": {},
     "output_type": "execute_result"
    }
   ],
   "source": [
    "fstruct('CONC')"
   ]
  },
  {
   "cell_type": "code",
   "execution_count": 170,
   "metadata": {},
   "outputs": [
    {
     "data": {
      "text/plain": [
       "'masc'"
      ]
     },
     "execution_count": 170,
     "metadata": {},
     "output_type": "execute_result"
    }
   ],
   "source": [
    "fstruct('CONC','GEN')"
   ]
  },
  {
   "cell_type": "markdown",
   "metadata": {},
   "source": [
    "En las funciones anteriores, la estructura de rasgos se encontraba _hardcodeada_. Es decir que estaba especificada dentro de la función y el usuario no tiene posibilidad de modificarla si, por ejemplo, quisiera conocer el valor de un atributo en otra estructura. Para evitar esto, es posible convertirla en un parámetro más."
   ]
  },
  {
   "cell_type": "code",
   "execution_count": 171,
   "metadata": {},
   "outputs": [],
   "source": [
    "def fstruct(fs, *attributes):\n",
    "    value = fs\n",
    "    for attr in attributes:\n",
    "        value = value[attr]\n",
    "    return value"
   ]
  },
  {
   "cell_type": "code",
   "execution_count": 180,
   "metadata": {},
   "outputs": [
    {
     "data": {
      "text/plain": [
       "Variable('?n')"
      ]
     },
     "execution_count": 180,
     "metadata": {},
     "output_type": "execute_result"
    }
   ],
   "source": [
    "fstruct(fs_b_nltk, 'CONC', 'NUM')"
   ]
  },
  {
   "cell_type": "code",
   "execution_count": 179,
   "metadata": {},
   "outputs": [
    {
     "data": {
      "text/plain": [
       "'plu'"
      ]
     },
     "execution_count": 179,
     "metadata": {},
     "output_type": "execute_result"
    }
   ],
   "source": [
    "fstruct(fs_c_nltk, 'CONC', 'NUM')"
   ]
  },
  {
   "cell_type": "markdown",
   "metadata": {
    "tags": []
   },
   "source": [
    "## Feature Sharing"
   ]
  },
  {
   "cell_type": "markdown",
   "metadata": {},
   "source": [
    "Podemos aprovechar y ver el paralelismo con la noción de herencia, que tiene una procedencia computacional."
   ]
  },
  {
   "cell_type": "code",
   "execution_count": null,
   "metadata": {},
   "outputs": [],
   "source": [
    "fs.cyclic()"
   ]
  },
  {
   "cell_type": "code",
   "execution_count": null,
   "metadata": {},
   "outputs": [],
   "source": [
    "# retomar feature sharing\n",
    "# recordar que compartir rasgos no es lo mismo que tener duplicada la misma información\n",
    "# mostrar con equal_values y hablar sobre reentrancia"
   ]
  },
  {
   "cell_type": "code",
   "execution_count": null,
   "metadata": {},
   "outputs": [],
   "source": [
    "fs.equal_values(fs, check_reentrance=False)"
   ]
  },
  {
   "cell_type": "markdown",
   "metadata": {},
   "source": [
    "Acá también podríamos mostrar que una estructura que comparte rasgos es más específica que una que no los comparte aunque tiene esepecificados los mismos valores para los mismos atributos."
   ]
  },
  {
   "cell_type": "markdown",
   "metadata": {},
   "source": [
    "# Gramáticas de rasgos en NLTK\n",
    "\n",
    "Como vimos en CFG, NLTK también nos va a proveer una forma de escribir y parser gramáticas de rasgos. Estas tienen la forma derivativa de las CFG, pero sus símbolos no terminales están anotados con rasgos, representados por pares de atributo-valor.\n",
    "\n",
    "En los casos en los que el atributo se quiere representar como una variable que no ha tomado un valor fijo, se usa la notación \"?{variable}\". Este valor podría satisfacerse por cualquiera de los valores habilitados por la gramática para ese rasgo, siempre y cuando la unificación se de de modo exitoso.\n",
    "\n",
    "La cantidad y el nombre de los rasgos agregados a los elementos de la gramática está en manos de quién escribe la gramática. Prueben agregando un rasgo o simplemente cambiandole el nombre a alguno de los que ya están en el archivo."
   ]
  },
  {
   "cell_type": "code",
   "execution_count": 52,
   "metadata": {
    "scrolled": true
   },
   "outputs": [
    {
     "name": "stdout",
     "output_type": "stream",
     "text": [
      "% start S\n",
      "#Adaptado al español de la gramática elaborada por Klein para el libro de NLTK\n",
      "#\n",
      "# ###################\n",
      "# Reglas de la Gramática\n",
      "# ###################\n",
      "# Reescritura de la Raíz\n",
      "S -> SN[NUM=?n] SV[NUM=?n]\n",
      "# Reescritura de SN\n",
      "SN[NUM=?n] -> PropN[NUM=?n] \n",
      "SN[NUM=?n,GEN=?g] -> Det[NUM=?n,GEN=?g] N[NUM=?n,GEN=?g]\n",
      "# Reescritura de SV\n",
      "SV[TIEMPO=?t, NUM=?n] -> V[TIEMPO=?t, NUM=?n]\n",
      "# ###################\n",
      "# Lexical Productions\n",
      "# ###################\n",
      "Det[NUM=sg,GEN=masc] -> 'este' | 'el'\n",
      "Det[NUM=pl,GEN=masc] -> 'estos' | 'los'\n",
      "Det[NUM=sg,GEN=fem] -> 'esta' | 'la'\n",
      "Det[NUM=pl,GEN=fem] -> 'estas' | 'las'\n",
      "PropN[NUM=sg]-> 'Cata' | 'Julia' | 'Fede' | 'Fer' | 'Martín' | 'Maca' | 'Vicky' | 'Pablo'\n",
      "N[NUM=sg,GEN=fem] -> 'chica' | 'mujer' | 'persona' | 'criatura'\n",
      "N[NUM=sg,GEN=masc] -> 'chico' | 'hombre' | 'sujeto' \n",
      "N[NUM=pl,GEN=fem] -> 'chicas' | 'mujeres' | 'personas' | 'criaturas'\n",
      "N[NUM=pl,GEN=masc] -> 'chicos' | 'hombres' | 'sujetos' \n",
      "V[TIEMPO=pres,NUM=sg] -> 'desaparece' | 'camina' | 'muerde' | 'llora' | 'aparece' | 'viene' | 'estornudan'\n",
      "V[TIEMPO=pres,NUM=pl] -> 'desaparecen' | 'caminan' | 'lloran' | 'muerden' | 'aparecen' | 'vienen' | 'estornudan'\n",
      "V[TIEMPO=pas,NUM=sg] -> 'desapareció' | 'caminó' | 'mordió' | 'lloraba' | 'apareció' | 'vino' | 'estornudó'\n",
      "V[TIEMPO=pas,NUM=pl] -> 'desaparecieron' | 'caminaron' | 'mordieron' | 'lloraban' | 'aparecieron' | 'vinieron' | 'estornudaron'\n"
     ]
    }
   ],
   "source": [
    "nltk.data.show_cfg('gramaticas/GramaticaDeRasgos.fcfg')"
   ]
  },
  {
   "cell_type": "code",
   "execution_count": 76,
   "metadata": {},
   "outputs": [
    {
     "data": {
      "text/plain": [
       "'las chicas caminan'"
      ]
     },
     "execution_count": 76,
     "metadata": {},
     "output_type": "execute_result"
    }
   ],
   "source": [
    "sentence = 'las chicas caminan'\n",
    "sentence"
   ]
  },
  {
   "cell_type": "code",
   "execution_count": 77,
   "metadata": {},
   "outputs": [
    {
     "data": {
      "text/plain": [
       "['las', 'chicas', 'caminan']"
      ]
     },
     "execution_count": 77,
     "metadata": {},
     "output_type": "execute_result"
    }
   ],
   "source": [
    "tokens = sentence.split()\n",
    "tokens"
   ]
  },
  {
   "cell_type": "code",
   "execution_count": 78,
   "metadata": {},
   "outputs": [
    {
     "name": "stdout",
     "output_type": "stream",
     "text": [
      "<class 'str'>\n"
     ]
    }
   ],
   "source": [
    "print(type(sentence))"
   ]
  },
  {
   "cell_type": "code",
   "execution_count": 79,
   "metadata": {},
   "outputs": [
    {
     "name": "stdout",
     "output_type": "stream",
     "text": [
      "<class 'list'>\n"
     ]
    }
   ],
   "source": [
    "print(type(tokens))"
   ]
  },
  {
   "cell_type": "code",
   "execution_count": 80,
   "metadata": {},
   "outputs": [
    {
     "name": "stdout",
     "output_type": "stream",
     "text": [
      "|.las .chic.cami.|\n",
      "Leaf Init Rule:\n",
      "|[----]    .    .| [0:1] 'las'\n",
      "|.    [----]    .| [1:2] 'chicas'\n",
      "|.    .    [----]| [2:3] 'caminan'\n",
      "Feature Bottom Up Predict Combine Rule:\n",
      "|[----]    .    .| [0:1] Det[GEN='fem', NUM='pl'] -> 'las' *\n",
      "Feature Bottom Up Predict Combine Rule:\n",
      "|[---->    .    .| [0:1] SN[GEN=?g, NUM=?n] -> Det[GEN=?g, NUM=?n] * N[GEN=?g, NUM=?n] {?g: 'fem', ?n: 'pl'}\n",
      "Feature Bottom Up Predict Combine Rule:\n",
      "|.    [----]    .| [1:2] N[GEN='fem', NUM='pl'] -> 'chicas' *\n",
      "Feature Single Edge Fundamental Rule:\n",
      "|[---------]    .| [0:2] SN[GEN='fem', NUM='pl'] -> Det[GEN='fem', NUM='pl'] N[GEN='fem', NUM='pl'] *\n",
      "Feature Bottom Up Predict Combine Rule:\n",
      "|[--------->    .| [0:2] S[] -> SN[NUM=?n] * SV[NUM=?n] {?n: 'pl'}\n",
      "Feature Bottom Up Predict Combine Rule:\n",
      "|.    .    [----]| [2:3] V[NUM='pl', TIEMPO='pres'] -> 'caminan' *\n",
      "Feature Bottom Up Predict Combine Rule:\n",
      "|.    .    [----]| [2:3] SV[NUM='pl', TIEMPO='pres'] -> V[NUM='pl', TIEMPO='pres'] *\n",
      "Feature Single Edge Fundamental Rule:\n",
      "|[==============]| [0:3] S[] -> SN[NUM='pl'] SV[NUM='pl'] *\n",
      "(S[]\n",
      "  (SN[GEN='fem', NUM='pl']\n",
      "    (Det[GEN='fem', NUM='pl'] las)\n",
      "    (N[GEN='fem', NUM='pl'] chicas))\n",
      "  (SV[NUM='pl', TIEMPO='pres'] (V[NUM='pl', TIEMPO='pres'] caminan)))\n"
     ]
    }
   ],
   "source": [
    "from nltk import load_parser\n",
    "\n",
    "cp = load_parser('gramaticas/GramaticaDeRasgos.fcfg', trace=2, cache=False) #Chart Parser\n",
    "\n",
    "for tree in cp.parse(tokens):\n",
    "    print(tree)"
   ]
  },
  {
   "cell_type": "code",
   "execution_count": 81,
   "metadata": {},
   "outputs": [
    {
     "name": "stdout",
     "output_type": "stream",
     "text": [
      "|.los .chic.cami.|\n",
      "Leaf Init Rule:\n",
      "|[----]    .    .| [0:1] 'los'\n",
      "|.    [----]    .| [1:2] 'chicas'\n",
      "|.    .    [----]| [2:3] 'caminan'\n",
      "Feature Bottom Up Predict Combine Rule:\n",
      "|[----]    .    .| [0:1] Det[GEN='masc', NUM='pl'] -> 'los' *\n",
      "Feature Bottom Up Predict Combine Rule:\n",
      "|[---->    .    .| [0:1] SN[GEN=?g, NUM=?n] -> Det[GEN=?g, NUM=?n] * N[GEN=?g, NUM=?n] {?g: 'masc', ?n: 'pl'}\n",
      "Feature Bottom Up Predict Combine Rule:\n",
      "|.    [----]    .| [1:2] N[GEN='fem', NUM='pl'] -> 'chicas' *\n",
      "Feature Bottom Up Predict Combine Rule:\n",
      "|.    .    [----]| [2:3] V[NUM='pl', TIEMPO='pres'] -> 'caminan' *\n",
      "Feature Bottom Up Predict Combine Rule:\n",
      "|.    .    [----]| [2:3] SV[NUM='pl', TIEMPO='pres'] -> V[NUM='pl', TIEMPO='pres'] *\n"
     ]
    }
   ],
   "source": [
    "cp = load_parser('gramaticas/GramaticaDeRasgos.fcfg', trace=2, cache=False) #Chart Parser\n",
    "\n",
    "for tree in cp.parse(['los', 'chicas', 'caminan']):\n",
    "    print(tree)"
   ]
  },
  {
   "cell_type": "markdown",
   "metadata": {},
   "source": [
    "## Gramáticas con Slash\n",
    "![gramaticas_con_slash](./gr_with_slash.png)\n",
    "\n",
    "El mismo parser nos permite implementar gramáticas con el rasgo SLASH que, como vimos en clase, es una de las formas posibles de habilitar dependencias no locales usando rasgos.\n",
    "\n",
    "Veamos un ejemplo."
   ]
  },
  {
   "cell_type": "code",
   "execution_count": 122,
   "metadata": {},
   "outputs": [
    {
     "name": "stdout",
     "output_type": "stream",
     "text": [
      "% start S\n",
      "# Gramática para ilustrar rasgo SUBCAT y la categoría SLASH\n",
      "#\n",
      "# ###################\n",
      "# Reglas de la Gramática\n",
      "# ###################\n",
      "# Reescritura de la Raíz\n",
      "S -> SN[NUM=?n] SV[NUM=?n]\n",
      "S -> Wh[NUM=?n] SV/Wh[NUM=?n]\n",
      "# Reescritura de SN\n",
      "SN[NUM=?n] -> PropN[NUM=?n] \n",
      "SN[NUM=?n,GEN=?g] -> Det[NUM=?n,GEN=?g] N[NUM=?n,GEN=?g]\n",
      "# Reescritura de SV\n",
      "SV[NUM=?n] -> V[SUBCAT='intrans', TENSE=?t, NUM=?n]\n",
      "SV[NUM=?n] -> V[SUBCAT='decir', TENSE=?t, NUM=?n] SC\n",
      "SV/?x[NUM=?n] -> V[SUBCAT='decir', TENSE=?t, NUM=?m] SN[NUM=?m] SC/?x[NUM=?n]\n",
      "# Reescritura de SC\n",
      "SC -> C ST\n",
      "SC/?x[NUM=?n] -> C ST/?x[NUM=?n]\n",
      "# Reescritura de C\n",
      "C -> 'que'\n",
      "# Reescritura de ST\n",
      "ST -> SN[NUM=?n] SV[NUM=?n]\n",
      "ST/?x[NUM=?n] -> N/?x[NUM=?n] SV[NUM=?n]\n",
      "# ###################\n",
      "# Lexical Productions\n",
      "# ###################\n",
      "# Reescritura de determinativos\n",
      "Det[NUM=sg,GEN=masc] -> 'este' | 'el'\n",
      "Det[NUM=pl,GEN=masc] -> 'estos' | 'los'\n",
      "Det[NUM=sg,GEN=fem] -> 'esta' | 'la'\n",
      "Det[NUM=pl,GEN=fem] -> 'estas' | 'las'\n",
      "# Reescritura de Nombres propios\n",
      "PropN[NUM=sg]-> 'Cata' | 'Julia' | 'Fede' | 'Fer' | 'Martín' | 'Maca' | 'Vicky' | 'Pablo'\n",
      "# Reescritura de N\n",
      "N[NUM=sg,GEN=fem] -> 'chica' | 'mujer' | 'persona' | 'criatura'\n",
      "N[NUM=sg,GEN=masc] -> 'chico' | 'hombre' | 'sujeto' \n",
      "N[NUM=pl,GEN=fem] -> 'chicas' | 'mujeres' | 'personas' | 'criaturas'\n",
      "N[NUM=pl,GEN=masc] -> 'chicos' | 'hombres' | 'sujetos' \n",
      "# Reescritura de N vacío\n",
      "N/Wh[NUM=sg] -> \n",
      "N/Wh[NUM=pl] ->\n",
      "# Reescritura Wh\n",
      "Wh[NUM=sg] -> 'qué'\n",
      "Wh[NUM=sg] -> 'quién'\n",
      "Wh[NUM=pl] -> 'quiénes'\n",
      "# Reescritura de V\n",
      "# Verbos intransitivos\n",
      "V[SUBCAT='intrans', TENSE=pres,NUM=sg] -> 'desaparece' | 'camina' | 'muerde' | 'llora' | 'aparece' | 'viene' | 'estornuda'\n",
      "V[SUBCAT='intrans', TENSE=pres,NUM=pl] -> 'desaparecen' | 'caminan' | 'lloran' | 'muerden' | 'aparecen' | 'vienen' | 'estornudan'\n",
      "V[SUBCAT='intrans', TENSE=pas,NUM=sg] -> 'desapareció' | 'caminó' | 'mordió' | 'lloraba' | 'apareció' | 'vino' | 'estornudó'| \n",
      "V[SUBCAT='intrans', TENSE=pas,NUM=pl] -> 'desaparecieron' | 'caminaron' | 'mordieron' | 'lloraban' | 'aparecieron' | 'vinieron' | 'estornudaron'\n",
      "# Verbos transitivos\n",
      "V[SUBCAT='trans', TENSE=pas,NUM=sg] -> 'vio'\n",
      "# Verbos de decir\n",
      "V[SUBCAT='decir', TENSE=pres,NUM=sg] -> 'dice' | 'afirma' | 'defiende' | 'argumenta' | 'sostiene' \n",
      "V[SUBCAT='decir', TENSE=pas,NUM=sg] -> 'dijo' | 'afirmó' | 'defendió' | 'argumentó' | 'sostuvo' \n"
     ]
    }
   ],
   "source": [
    "nltk.data.show_cfg('gramaticas/GramaticaSlash.fcfg')"
   ]
  },
  {
   "cell_type": "code",
   "execution_count": 123,
   "metadata": {},
   "outputs": [
    {
     "name": "stdout",
     "output_type": "stream",
     "text": [
      "|.q.d.e.c.q.e.|\n",
      "Leaf Init Rule:\n",
      "|[-] . . . . .| [0:1] 'quién'\n",
      "|. [-] . . . .| [1:2] 'dice'\n",
      "|. . [-] . . .| [2:3] 'el'\n",
      "|. . . [-] . .| [3:4] 'chico'\n",
      "|. . . . [-] .| [4:5] 'que'\n",
      "|. . . . . [-]| [5:6] 'estornuda'\n",
      "Feature Empty Predict Rule:\n",
      "|# . . . . . .| [0:0] N[]/Wh[NUM='sg'] -> *\n",
      "|. # . . . . .| [1:1] N[]/Wh[NUM='sg'] -> *\n",
      "|. . # . . . .| [2:2] N[]/Wh[NUM='sg'] -> *\n",
      "|. . . # . . .| [3:3] N[]/Wh[NUM='sg'] -> *\n",
      "|. . . . # . .| [4:4] N[]/Wh[NUM='sg'] -> *\n",
      "|. . . . . # .| [5:5] N[]/Wh[NUM='sg'] -> *\n",
      "|. . . . . . #| [6:6] N[]/Wh[NUM='sg'] -> *\n",
      "|# . . . . . .| [0:0] N[]/Wh[NUM='pl'] -> *\n",
      "|. # . . . . .| [1:1] N[]/Wh[NUM='pl'] -> *\n",
      "|. . # . . . .| [2:2] N[]/Wh[NUM='pl'] -> *\n",
      "|. . . # . . .| [3:3] N[]/Wh[NUM='pl'] -> *\n",
      "|. . . . # . .| [4:4] N[]/Wh[NUM='pl'] -> *\n",
      "|. . . . . # .| [5:5] N[]/Wh[NUM='pl'] -> *\n",
      "|. . . . . . #| [6:6] N[]/Wh[NUM='pl'] -> *\n",
      "|# . . . . . .| [0:0] V[NUM='sg', SUBCAT='intrans', TENSE='pas'] -> *\n",
      "|. # . . . . .| [1:1] V[NUM='sg', SUBCAT='intrans', TENSE='pas'] -> *\n",
      "|. . # . . . .| [2:2] V[NUM='sg', SUBCAT='intrans', TENSE='pas'] -> *\n",
      "|. . . # . . .| [3:3] V[NUM='sg', SUBCAT='intrans', TENSE='pas'] -> *\n",
      "|. . . . # . .| [4:4] V[NUM='sg', SUBCAT='intrans', TENSE='pas'] -> *\n",
      "|. . . . . # .| [5:5] V[NUM='sg', SUBCAT='intrans', TENSE='pas'] -> *\n",
      "|. . . . . . #| [6:6] V[NUM='sg', SUBCAT='intrans', TENSE='pas'] -> *\n",
      "Feature Bottom Up Predict Combine Rule:\n",
      "|[-] . . . . .| [0:1] Wh[NUM='sg'] -> 'quién' *\n",
      "Feature Bottom Up Predict Combine Rule:\n",
      "|[-> . . . . .| [0:1] S[] -> Wh[NUM=?n] * SV[]/Wh[NUM=?n] {?n: 'sg'}\n",
      "Feature Bottom Up Predict Combine Rule:\n",
      "|. [-] . . . .| [1:2] V[NUM='sg', SUBCAT='decir', TENSE='pres'] -> 'dice' *\n",
      "Feature Bottom Up Predict Combine Rule:\n",
      "|. [-> . . . .| [1:2] SV[NUM=?n] -> V[NUM=?n, SUBCAT='decir', TENSE=?t] * SC[] {?n: 'sg', ?t: 'pres'}\n",
      "|. [-> . . . .| [1:2] SV[]/?x[NUM=?n] -> V[NUM=?m, SUBCAT='decir', TENSE=?t] * SN[NUM=?m] SC[]/?x[NUM=?n] {?m: 'sg', ?t: 'pres'}\n",
      "Feature Bottom Up Predict Combine Rule:\n",
      "|. . [-] . . .| [2:3] Det[GEN='masc', NUM='sg'] -> 'el' *\n",
      "Feature Bottom Up Predict Combine Rule:\n",
      "|. . [-> . . .| [2:3] SN[GEN=?g, NUM=?n] -> Det[GEN=?g, NUM=?n] * N[GEN=?g, NUM=?n] {?g: 'masc', ?n: 'sg'}\n",
      "Feature Bottom Up Predict Combine Rule:\n",
      "|. . . [-] . .| [3:4] N[GEN='masc', NUM='sg'] -> 'chico' *\n",
      "Feature Single Edge Fundamental Rule:\n",
      "|. . [---] . .| [2:4] SN[GEN='masc', NUM='sg'] -> Det[GEN='masc', NUM='sg'] N[GEN='masc', NUM='sg'] *\n",
      "Feature Bottom Up Predict Combine Rule:\n",
      "|. . [---> . .| [2:4] S[] -> SN[NUM=?n] * SV[NUM=?n] {?n: 'sg'}\n",
      "|. . [---> . .| [2:4] ST[] -> SN[NUM=?n] * SV[NUM=?n] {?n: 'sg'}\n",
      "Feature Single Edge Fundamental Rule:\n",
      "|. [-----> . .| [1:4] SV[]/?x[NUM=?n] -> V[NUM=?m, SUBCAT='decir', TENSE=?t] SN[NUM=?m] * SC[]/?x[NUM=?n] {?m: 'sg', ?t: 'pres'}\n",
      "Feature Bottom Up Predict Combine Rule:\n",
      "|. . . . [-] .| [4:5] C[] -> 'que' *\n",
      "Feature Bottom Up Predict Combine Rule:\n",
      "|. . . . [-> .| [4:5] SC[] -> C[] * ST[] {}\n",
      "|. . . . [-> .| [4:5] SC[]/?x[NUM=?n] -> C[] * ST[]/?x[NUM=?n] {}\n",
      "Feature Bottom Up Predict Combine Rule:\n",
      "|. . . . . [-]| [5:6] V[NUM='sg', SUBCAT='intrans', TENSE='pres'] -> 'estornuda' *\n",
      "Feature Bottom Up Predict Combine Rule:\n",
      "|. . . . . [-]| [5:6] SV[NUM='sg'] -> V[NUM='sg', SUBCAT='intrans', TENSE='pres'] *\n",
      "Feature Bottom Up Predict Combine Rule:\n",
      "|> . . . . . .| [0:0] ST[]/?x[NUM=?n] -> N[]/?x[NUM=?n] * SV[NUM=?n] {?n: 'sg', ?x: 'Wh'}\n",
      "Feature Bottom Up Predict Combine Rule:\n",
      "|. > . . . . .| [1:1] ST[]/?x[NUM=?n] -> N[]/?x[NUM=?n] * SV[NUM=?n] {?n: 'sg', ?x: 'Wh'}\n",
      "Feature Bottom Up Predict Combine Rule:\n",
      "|. . > . . . .| [2:2] ST[]/?x[NUM=?n] -> N[]/?x[NUM=?n] * SV[NUM=?n] {?n: 'sg', ?x: 'Wh'}\n",
      "Feature Bottom Up Predict Combine Rule:\n",
      "|. . . > . . .| [3:3] ST[]/?x[NUM=?n] -> N[]/?x[NUM=?n] * SV[NUM=?n] {?n: 'sg', ?x: 'Wh'}\n",
      "Feature Bottom Up Predict Combine Rule:\n",
      "|. . . . > . .| [4:4] ST[]/?x[NUM=?n] -> N[]/?x[NUM=?n] * SV[NUM=?n] {?n: 'sg', ?x: 'Wh'}\n",
      "Feature Bottom Up Predict Combine Rule:\n",
      "|. . . . . > .| [5:5] ST[]/?x[NUM=?n] -> N[]/?x[NUM=?n] * SV[NUM=?n] {?n: 'sg', ?x: 'Wh'}\n",
      "Feature Single Edge Fundamental Rule:\n",
      "|. . . . . [-]| [5:6] ST[]/Wh[NUM='sg'] -> N[]/Wh[NUM='sg'] SV[NUM='sg'] *\n",
      "Feature Single Edge Fundamental Rule:\n",
      "|. . . . [---]| [4:6] SC[]/Wh[NUM='sg'] -> C[] ST[]/Wh[NUM='sg'] *\n",
      "Feature Single Edge Fundamental Rule:\n",
      "|. [---------]| [1:6] SV[]/Wh[NUM='sg'] -> V[NUM='sg', SUBCAT='decir', TENSE='pres'] SN[NUM='sg'] SC[]/Wh[NUM='sg'] *\n",
      "Feature Single Edge Fundamental Rule:\n",
      "|[===========]| [0:6] S[] -> Wh[NUM='sg'] SV[]/Wh[NUM='sg'] *\n",
      "Feature Bottom Up Predict Combine Rule:\n",
      "|. . . . . . >| [6:6] ST[]/?x[NUM=?n] -> N[]/?x[NUM=?n] * SV[NUM=?n] {?n: 'sg', ?x: 'Wh'}\n",
      "Feature Bottom Up Predict Combine Rule:\n",
      "|> . . . . . .| [0:0] ST[]/?x[NUM=?n] -> N[]/?x[NUM=?n] * SV[NUM=?n] {?n: 'pl', ?x: 'Wh'}\n",
      "Feature Bottom Up Predict Combine Rule:\n",
      "|. > . . . . .| [1:1] ST[]/?x[NUM=?n] -> N[]/?x[NUM=?n] * SV[NUM=?n] {?n: 'pl', ?x: 'Wh'}\n",
      "Feature Bottom Up Predict Combine Rule:\n",
      "|. . > . . . .| [2:2] ST[]/?x[NUM=?n] -> N[]/?x[NUM=?n] * SV[NUM=?n] {?n: 'pl', ?x: 'Wh'}\n",
      "Feature Bottom Up Predict Combine Rule:\n",
      "|. . . > . . .| [3:3] ST[]/?x[NUM=?n] -> N[]/?x[NUM=?n] * SV[NUM=?n] {?n: 'pl', ?x: 'Wh'}\n",
      "Feature Bottom Up Predict Combine Rule:\n",
      "|. . . . > . .| [4:4] ST[]/?x[NUM=?n] -> N[]/?x[NUM=?n] * SV[NUM=?n] {?n: 'pl', ?x: 'Wh'}\n",
      "Feature Bottom Up Predict Combine Rule:\n",
      "|. . . . . > .| [5:5] ST[]/?x[NUM=?n] -> N[]/?x[NUM=?n] * SV[NUM=?n] {?n: 'pl', ?x: 'Wh'}\n",
      "Feature Bottom Up Predict Combine Rule:\n",
      "|. . . . . . >| [6:6] ST[]/?x[NUM=?n] -> N[]/?x[NUM=?n] * SV[NUM=?n] {?n: 'pl', ?x: 'Wh'}\n",
      "Feature Bottom Up Predict Combine Rule:\n",
      "|# . . . . . .| [0:0] SV[NUM='sg'] -> V[NUM='sg', SUBCAT='intrans', TENSE='pas'] *\n",
      "Feature Single Edge Fundamental Rule:\n",
      "|# . . . . . .| [0:0] ST[]/Wh[NUM='sg'] -> N[]/Wh[NUM='sg'] SV[NUM='sg'] *\n",
      "Feature Bottom Up Predict Combine Rule:\n",
      "|. # . . . . .| [1:1] SV[NUM='sg'] -> V[NUM='sg', SUBCAT='intrans', TENSE='pas'] *\n",
      "Feature Single Edge Fundamental Rule:\n",
      "|. # . . . . .| [1:1] ST[]/Wh[NUM='sg'] -> N[]/Wh[NUM='sg'] SV[NUM='sg'] *\n",
      "Feature Bottom Up Predict Combine Rule:\n",
      "|. . # . . . .| [2:2] SV[NUM='sg'] -> V[NUM='sg', SUBCAT='intrans', TENSE='pas'] *\n",
      "Feature Single Edge Fundamental Rule:\n",
      "|. . # . . . .| [2:2] ST[]/Wh[NUM='sg'] -> N[]/Wh[NUM='sg'] SV[NUM='sg'] *\n",
      "Feature Bottom Up Predict Combine Rule:\n",
      "|. . . # . . .| [3:3] SV[NUM='sg'] -> V[NUM='sg', SUBCAT='intrans', TENSE='pas'] *\n",
      "Feature Single Edge Fundamental Rule:\n",
      "|. . . # . . .| [3:3] ST[]/Wh[NUM='sg'] -> N[]/Wh[NUM='sg'] SV[NUM='sg'] *\n",
      "Feature Bottom Up Predict Combine Rule:\n",
      "|. . . . # . .| [4:4] SV[NUM='sg'] -> V[NUM='sg', SUBCAT='intrans', TENSE='pas'] *\n",
      "Feature Single Edge Fundamental Rule:\n",
      "|. . [---] . .| [2:4] S[] -> SN[NUM='sg'] SV[NUM='sg'] *\n",
      "|. . [---] . .| [2:4] ST[] -> SN[NUM='sg'] SV[NUM='sg'] *\n",
      "|. . . . # . .| [4:4] ST[]/Wh[NUM='sg'] -> N[]/Wh[NUM='sg'] SV[NUM='sg'] *\n",
      "Feature Bottom Up Predict Combine Rule:\n",
      "|. . . . . # .| [5:5] SV[NUM='sg'] -> V[NUM='sg', SUBCAT='intrans', TENSE='pas'] *\n",
      "Feature Single Edge Fundamental Rule:\n",
      "|. . . . . # .| [5:5] ST[]/Wh[NUM='sg'] -> N[]/Wh[NUM='sg'] SV[NUM='sg'] *\n",
      "Feature Single Edge Fundamental Rule:\n",
      "|. . . . [-] .| [4:5] SC[]/Wh[NUM='sg'] -> C[] ST[]/Wh[NUM='sg'] *\n",
      "Feature Single Edge Fundamental Rule:\n",
      "|. [-------] .| [1:5] SV[]/Wh[NUM='sg'] -> V[NUM='sg', SUBCAT='decir', TENSE='pres'] SN[NUM='sg'] SC[]/Wh[NUM='sg'] *\n",
      "Feature Single Edge Fundamental Rule:\n",
      "|[---------] .| [0:5] S[] -> Wh[NUM='sg'] SV[]/Wh[NUM='sg'] *\n",
      "Feature Bottom Up Predict Combine Rule:\n",
      "|. . . . . . #| [6:6] SV[NUM='sg'] -> V[NUM='sg', SUBCAT='intrans', TENSE='pas'] *\n",
      "Feature Single Edge Fundamental Rule:\n",
      "|. . . . . . #| [6:6] ST[]/Wh[NUM='sg'] -> N[]/Wh[NUM='sg'] SV[NUM='sg'] *\n",
      "(S[]\n",
      "  (Wh[NUM='sg'] quién)\n",
      "  (SV[]/Wh[NUM='sg']\n",
      "    (V[NUM='sg', SUBCAT='decir', TENSE='pres'] dice)\n",
      "    (SN[GEN='masc', NUM='sg']\n",
      "      (Det[GEN='masc', NUM='sg'] el)\n",
      "      (N[GEN='masc', NUM='sg'] chico))\n",
      "    (SC[]/Wh[NUM='sg']\n",
      "      (C[] que)\n",
      "      (ST[]/Wh[NUM='sg']\n",
      "        (N[]/Wh[NUM='sg'] )\n",
      "        (SV[NUM='sg']\n",
      "          (V[NUM='sg', SUBCAT='intrans', TENSE='pres'] estornuda))))))\n"
     ]
    }
   ],
   "source": [
    "sentence_slash_grammar = 'quién dice el chico que estornuda'\n",
    "sentence = sentence_slash_grammar.split()\n",
    "from nltk import load_parser\n",
    "cp = load_parser('gramaticas/GramaticaSlash.fcfg', trace=2, cache=False)\n",
    "for tree in cp.parse(sentence):\n",
    "     print(tree)"
   ]
  },
  {
   "cell_type": "code",
   "execution_count": 124,
   "metadata": {},
   "outputs": [
    {
     "name": "stdout",
     "output_type": "stream",
     "text": [
      "|.q.d.e.c.q.v.|\n",
      "Leaf Init Rule:\n",
      "|[-] . . . . .| [0:1] 'qué'\n",
      "|. [-] . . . .| [1:2] 'dijo'\n",
      "|. . [-] . . .| [2:3] 'el'\n",
      "|. . . [-] . .| [3:4] 'chico'\n",
      "|. . . . [-] .| [4:5] 'que'\n",
      "|. . . . . [-]| [5:6] 'vio'\n",
      "Feature Empty Predict Rule:\n",
      "|# . . . . . .| [0:0] N[]/Wh[NUM='sg'] -> *\n",
      "|. # . . . . .| [1:1] N[]/Wh[NUM='sg'] -> *\n",
      "|. . # . . . .| [2:2] N[]/Wh[NUM='sg'] -> *\n",
      "|. . . # . . .| [3:3] N[]/Wh[NUM='sg'] -> *\n",
      "|. . . . # . .| [4:4] N[]/Wh[NUM='sg'] -> *\n",
      "|. . . . . # .| [5:5] N[]/Wh[NUM='sg'] -> *\n",
      "|. . . . . . #| [6:6] N[]/Wh[NUM='sg'] -> *\n",
      "|# . . . . . .| [0:0] N[]/Wh[NUM='pl'] -> *\n",
      "|. # . . . . .| [1:1] N[]/Wh[NUM='pl'] -> *\n",
      "|. . # . . . .| [2:2] N[]/Wh[NUM='pl'] -> *\n",
      "|. . . # . . .| [3:3] N[]/Wh[NUM='pl'] -> *\n",
      "|. . . . # . .| [4:4] N[]/Wh[NUM='pl'] -> *\n",
      "|. . . . . # .| [5:5] N[]/Wh[NUM='pl'] -> *\n",
      "|. . . . . . #| [6:6] N[]/Wh[NUM='pl'] -> *\n",
      "|# . . . . . .| [0:0] V[NUM='sg', SUBCAT='intrans', TENSE='pas'] -> *\n",
      "|. # . . . . .| [1:1] V[NUM='sg', SUBCAT='intrans', TENSE='pas'] -> *\n",
      "|. . # . . . .| [2:2] V[NUM='sg', SUBCAT='intrans', TENSE='pas'] -> *\n",
      "|. . . # . . .| [3:3] V[NUM='sg', SUBCAT='intrans', TENSE='pas'] -> *\n",
      "|. . . . # . .| [4:4] V[NUM='sg', SUBCAT='intrans', TENSE='pas'] -> *\n",
      "|. . . . . # .| [5:5] V[NUM='sg', SUBCAT='intrans', TENSE='pas'] -> *\n",
      "|. . . . . . #| [6:6] V[NUM='sg', SUBCAT='intrans', TENSE='pas'] -> *\n",
      "Feature Bottom Up Predict Combine Rule:\n",
      "|[-] . . . . .| [0:1] Wh[NUM='sg'] -> 'qué' *\n",
      "Feature Bottom Up Predict Combine Rule:\n",
      "|[-> . . . . .| [0:1] S[] -> Wh[NUM=?n] * SV[]/Wh[NUM=?n] {?n: 'sg'}\n",
      "Feature Bottom Up Predict Combine Rule:\n",
      "|. [-] . . . .| [1:2] V[NUM='sg', SUBCAT='decir', TENSE='pas'] -> 'dijo' *\n",
      "Feature Bottom Up Predict Combine Rule:\n",
      "|. [-> . . . .| [1:2] SV[NUM=?n] -> V[NUM=?n, SUBCAT='decir', TENSE=?t] * SC[] {?n: 'sg', ?t: 'pas'}\n",
      "|. [-> . . . .| [1:2] SV[]/?x[NUM=?n] -> V[NUM=?m, SUBCAT='decir', TENSE=?t] * SN[NUM=?m] SC[]/?x[NUM=?n] {?m: 'sg', ?t: 'pas'}\n",
      "Feature Bottom Up Predict Combine Rule:\n",
      "|. . [-] . . .| [2:3] Det[GEN='masc', NUM='sg'] -> 'el' *\n",
      "Feature Bottom Up Predict Combine Rule:\n",
      "|. . [-> . . .| [2:3] SN[GEN=?g, NUM=?n] -> Det[GEN=?g, NUM=?n] * N[GEN=?g, NUM=?n] {?g: 'masc', ?n: 'sg'}\n",
      "Feature Bottom Up Predict Combine Rule:\n",
      "|. . . [-] . .| [3:4] N[GEN='masc', NUM='sg'] -> 'chico' *\n",
      "Feature Single Edge Fundamental Rule:\n",
      "|. . [---] . .| [2:4] SN[GEN='masc', NUM='sg'] -> Det[GEN='masc', NUM='sg'] N[GEN='masc', NUM='sg'] *\n",
      "Feature Bottom Up Predict Combine Rule:\n",
      "|. . [---> . .| [2:4] S[] -> SN[NUM=?n] * SV[NUM=?n] {?n: 'sg'}\n",
      "|. . [---> . .| [2:4] ST[] -> SN[NUM=?n] * SV[NUM=?n] {?n: 'sg'}\n",
      "Feature Single Edge Fundamental Rule:\n",
      "|. [-----> . .| [1:4] SV[]/?x[NUM=?n] -> V[NUM=?m, SUBCAT='decir', TENSE=?t] SN[NUM=?m] * SC[]/?x[NUM=?n] {?m: 'sg', ?t: 'pas'}\n",
      "Feature Bottom Up Predict Combine Rule:\n",
      "|. . . . [-] .| [4:5] C[] -> 'que' *\n",
      "Feature Bottom Up Predict Combine Rule:\n",
      "|. . . . [-> .| [4:5] SC[] -> C[] * ST[] {}\n",
      "|. . . . [-> .| [4:5] SC[]/?x[NUM=?n] -> C[] * ST[]/?x[NUM=?n] {}\n",
      "Feature Bottom Up Predict Combine Rule:\n",
      "|. . . . . [-]| [5:6] V[NUM='sg', SUBCAT='trans', TENSE='pas'] -> 'vio' *\n",
      "Feature Bottom Up Predict Combine Rule:\n",
      "|> . . . . . .| [0:0] ST[]/?x[NUM=?n] -> N[]/?x[NUM=?n] * SV[NUM=?n] {?n: 'sg', ?x: 'Wh'}\n",
      "Feature Bottom Up Predict Combine Rule:\n",
      "|. > . . . . .| [1:1] ST[]/?x[NUM=?n] -> N[]/?x[NUM=?n] * SV[NUM=?n] {?n: 'sg', ?x: 'Wh'}\n",
      "Feature Bottom Up Predict Combine Rule:\n",
      "|. . > . . . .| [2:2] ST[]/?x[NUM=?n] -> N[]/?x[NUM=?n] * SV[NUM=?n] {?n: 'sg', ?x: 'Wh'}\n",
      "Feature Bottom Up Predict Combine Rule:\n",
      "|. . . > . . .| [3:3] ST[]/?x[NUM=?n] -> N[]/?x[NUM=?n] * SV[NUM=?n] {?n: 'sg', ?x: 'Wh'}\n",
      "Feature Bottom Up Predict Combine Rule:\n",
      "|. . . . > . .| [4:4] ST[]/?x[NUM=?n] -> N[]/?x[NUM=?n] * SV[NUM=?n] {?n: 'sg', ?x: 'Wh'}\n",
      "Feature Bottom Up Predict Combine Rule:\n",
      "|. . . . . > .| [5:5] ST[]/?x[NUM=?n] -> N[]/?x[NUM=?n] * SV[NUM=?n] {?n: 'sg', ?x: 'Wh'}\n",
      "Feature Bottom Up Predict Combine Rule:\n",
      "|. . . . . . >| [6:6] ST[]/?x[NUM=?n] -> N[]/?x[NUM=?n] * SV[NUM=?n] {?n: 'sg', ?x: 'Wh'}\n",
      "Feature Bottom Up Predict Combine Rule:\n",
      "|> . . . . . .| [0:0] ST[]/?x[NUM=?n] -> N[]/?x[NUM=?n] * SV[NUM=?n] {?n: 'pl', ?x: 'Wh'}\n",
      "Feature Bottom Up Predict Combine Rule:\n",
      "|. > . . . . .| [1:1] ST[]/?x[NUM=?n] -> N[]/?x[NUM=?n] * SV[NUM=?n] {?n: 'pl', ?x: 'Wh'}\n",
      "Feature Bottom Up Predict Combine Rule:\n",
      "|. . > . . . .| [2:2] ST[]/?x[NUM=?n] -> N[]/?x[NUM=?n] * SV[NUM=?n] {?n: 'pl', ?x: 'Wh'}\n",
      "Feature Bottom Up Predict Combine Rule:\n",
      "|. . . > . . .| [3:3] ST[]/?x[NUM=?n] -> N[]/?x[NUM=?n] * SV[NUM=?n] {?n: 'pl', ?x: 'Wh'}\n",
      "Feature Bottom Up Predict Combine Rule:\n",
      "|. . . . > . .| [4:4] ST[]/?x[NUM=?n] -> N[]/?x[NUM=?n] * SV[NUM=?n] {?n: 'pl', ?x: 'Wh'}\n",
      "Feature Bottom Up Predict Combine Rule:\n",
      "|. . . . . > .| [5:5] ST[]/?x[NUM=?n] -> N[]/?x[NUM=?n] * SV[NUM=?n] {?n: 'pl', ?x: 'Wh'}\n",
      "Feature Bottom Up Predict Combine Rule:\n",
      "|. . . . . . >| [6:6] ST[]/?x[NUM=?n] -> N[]/?x[NUM=?n] * SV[NUM=?n] {?n: 'pl', ?x: 'Wh'}\n",
      "Feature Bottom Up Predict Combine Rule:\n",
      "|# . . . . . .| [0:0] SV[NUM='sg'] -> V[NUM='sg', SUBCAT='intrans', TENSE='pas'] *\n",
      "Feature Single Edge Fundamental Rule:\n",
      "|# . . . . . .| [0:0] ST[]/Wh[NUM='sg'] -> N[]/Wh[NUM='sg'] SV[NUM='sg'] *\n",
      "Feature Bottom Up Predict Combine Rule:\n",
      "|. # . . . . .| [1:1] SV[NUM='sg'] -> V[NUM='sg', SUBCAT='intrans', TENSE='pas'] *\n",
      "Feature Single Edge Fundamental Rule:\n",
      "|. # . . . . .| [1:1] ST[]/Wh[NUM='sg'] -> N[]/Wh[NUM='sg'] SV[NUM='sg'] *\n",
      "Feature Bottom Up Predict Combine Rule:\n",
      "|. . # . . . .| [2:2] SV[NUM='sg'] -> V[NUM='sg', SUBCAT='intrans', TENSE='pas'] *\n",
      "Feature Single Edge Fundamental Rule:\n",
      "|. . # . . . .| [2:2] ST[]/Wh[NUM='sg'] -> N[]/Wh[NUM='sg'] SV[NUM='sg'] *\n",
      "Feature Bottom Up Predict Combine Rule:\n",
      "|. . . # . . .| [3:3] SV[NUM='sg'] -> V[NUM='sg', SUBCAT='intrans', TENSE='pas'] *\n",
      "Feature Single Edge Fundamental Rule:\n",
      "|. . . # . . .| [3:3] ST[]/Wh[NUM='sg'] -> N[]/Wh[NUM='sg'] SV[NUM='sg'] *\n",
      "Feature Bottom Up Predict Combine Rule:\n",
      "|. . . . # . .| [4:4] SV[NUM='sg'] -> V[NUM='sg', SUBCAT='intrans', TENSE='pas'] *\n",
      "Feature Single Edge Fundamental Rule:\n",
      "|. . [---] . .| [2:4] S[] -> SN[NUM='sg'] SV[NUM='sg'] *\n",
      "|. . [---] . .| [2:4] ST[] -> SN[NUM='sg'] SV[NUM='sg'] *\n",
      "|. . . . # . .| [4:4] ST[]/Wh[NUM='sg'] -> N[]/Wh[NUM='sg'] SV[NUM='sg'] *\n",
      "Feature Bottom Up Predict Combine Rule:\n",
      "|. . . . . # .| [5:5] SV[NUM='sg'] -> V[NUM='sg', SUBCAT='intrans', TENSE='pas'] *\n",
      "Feature Single Edge Fundamental Rule:\n",
      "|. . . . . # .| [5:5] ST[]/Wh[NUM='sg'] -> N[]/Wh[NUM='sg'] SV[NUM='sg'] *\n",
      "Feature Single Edge Fundamental Rule:\n",
      "|. . . . [-] .| [4:5] SC[]/Wh[NUM='sg'] -> C[] ST[]/Wh[NUM='sg'] *\n",
      "Feature Single Edge Fundamental Rule:\n",
      "|. [-------] .| [1:5] SV[]/Wh[NUM='sg'] -> V[NUM='sg', SUBCAT='decir', TENSE='pas'] SN[NUM='sg'] SC[]/Wh[NUM='sg'] *\n",
      "Feature Single Edge Fundamental Rule:\n",
      "|[---------] .| [0:5] S[] -> Wh[NUM='sg'] SV[]/Wh[NUM='sg'] *\n",
      "Feature Bottom Up Predict Combine Rule:\n",
      "|. . . . . . #| [6:6] SV[NUM='sg'] -> V[NUM='sg', SUBCAT='intrans', TENSE='pas'] *\n",
      "Feature Single Edge Fundamental Rule:\n",
      "|. . . . . . #| [6:6] ST[]/Wh[NUM='sg'] -> N[]/Wh[NUM='sg'] SV[NUM='sg'] *\n"
     ]
    }
   ],
   "source": [
    "sentence_slash_grammar = 'qué dijo el chico que vio'\n",
    "sentence = sentence_slash_grammar.split()\n",
    "from nltk import load_parser\n",
    "cp = load_parser('gramaticas/GramaticaSlash.fcfg', trace=2, cache=False)\n",
    "for tree in cp.parse(sentence):\n",
    "     print(tree)"
   ]
  },
  {
   "cell_type": "markdown",
   "metadata": {},
   "source": [
    "## Uso de rasgos para significado"
   ]
  },
  {
   "cell_type": "markdown",
   "metadata": {},
   "source": [
    "Los rasgos pueden utilizarse a su vez para construir una representación semántica de las oraciones.\n",
    "\n",
    "En semántica formal existe una función particular, que se conoce con el nombre de función interpretación, y que se anota con corchetes dobles. La función interpretación devuelve por cada expresión lingüística su denotación. Las denotaciones pueden ser de dos tipos: \n",
    "\n",
    "- elementos atómicos (típicamente objetos o proposiciones, pero también hay otras ontologías que incluyen mundos posibles, eventos y tiempos, entre otras cosas)\n",
    "- funciones. \n",
    "\n",
    "El uso de rasgos para dar cuenta del significado consiste en que la función denotación sea el valor de un rasgo semántico.\n",
    "\n",
    "En el [libro de NLTK](https://www.nltk.org/book/ch10.html) y en la [documentación de NLTK](http://nltk.sourceforge.net/doc/en/ch11.html) hay información sobre cómo implementar esto mediante una gramática de rasgos en NLTK.\n",
    "\n",
    "\n",
    "Las funciones equivalen a conjuntos y se expresan en el llamado cálculo lambda. \n",
    "\n",
    "\\x. x fuma\n",
    "\n",
    "Esta es una función que toma un x y devuelve verdadero si x fuma y falso si x no fuma. En términos de conjuntos equivale al conjunto de todos los fumadores (ténicamente equivale al conjunto característico de todos los fumadores, que es el que devuelve verdadero si x fuma y falso si x no fuma).\n",
    "\n",
    "Hay dos operaciones básicas de cálculo lambda que son particularmente relevantes (una tercera no tuvo tanta repercusión en la semántica formal):\n",
    "\n",
    "- Conversión alpha (o reducción alpha): cambiar el nombre de una variable y, conjuntamente, el de todas las variables ligadas con ella.\n",
    "`[\\x. x fuma] = [\\y. y fuma] = [\\z. z fuma] = ...`\n",
    "- Conversión lambda (o reducción beta): cuando combinamos una función con un argumento, eliminar el prefijo lambda y reemplazar todas las ocurrencias de la variable que introduce ese prefijo por el argumento.\n",
    "\n",
    "- `[\\x. x fuma](cata) = cata fuma`\n",
    "- `[\\f. f](\\x. x fuma) = \\x. x fuma`\n",
    "- `[\\f. [\\g. [\\x. g(x)=f(x)=1]]](\\x. x fuma)(\\x. x baila) = [\\x. [\\x. x fuma](x)=[\\x. x baila](x)=1] = [\\x x fuma y x baila]` \n",
    "\n",
    "Las interpretación semántica de las expresiones lingüísticas se da a partir del significado de sus partes y su combinación mediante reglas que dependen de la forma del árbol y de los tipos de las funciones. Las reglas más frecuentes son: \n",
    "\n",
    "- Aplicación funcional: Si un nodo A domina a dos nodos B y C tales que B es una función cuyo dominio incluye a C, entonces [[A]]=[[B]]([[C]])\n",
    "- Modificación de predicados: Si un nodo A domina a dos nodos B y C tales que los dos nodos son funciones que van del dominio de los individuos al dominio de los valores de verdad, entonces [[A]] = \\x. [[B]]=[[C]]=1\n",
    "\n",
    "Las fcfg implementan la función intepretación como valor de un rasgo semántico y reemplazando las reglas que dependen de la forma del árbol directamente por restricciones en las reglas de reescritura. Estas restricciones consisten básicamente en la unificación mediante variables idénticas."
   ]
  },
  {
   "cell_type": "code",
   "execution_count": 13,
   "metadata": {},
   "outputs": [
    {
     "name": "stdout",
     "output_type": "stream",
     "text": [
      "% start S\n",
      "# Grammar Rules\n",
      "S[SEM = <?subj(?vp)>] -> NP[NUM=?n,GEN=?g,SEM=?subj] VP[NUM=?n,GEN=?g,SEM=?vp]\n",
      "NP[NUM=?n,GEN=?g,SEM=<?det(?nom)>] -> Det[NUM=?n,GEN=?g,SEM=?det]  Nom[NUM=?n,GEN=?g,SEM=?nom]\n",
      "NP[LOC=?l,NUM=?n,GEN=?g,SEM=?np] -> PropN[LOC=?l,NUM=?n,GEN=?g,SEM=?np]\n",
      "Nom[NUM=?n,GEN=?g,SEM=?nom] -> N[NUM=?n,GEN=?g,SEM=?nom]\n",
      "VP[NUM=?n,SEM=?v] -> IV[NUM=?n,SEM=?v]\n",
      "VP[NUM=?n,SEM=<?v(?obj)>] -> TV[NUM=?n,SEM=?v] NP[SEM=?obj]\n",
      "VP[NUM=?n,SEM=<?v(?obj,?pp)>] -> DTV[NUM=?n,SEM=?v] NP[SEM=?obj] PP[+A,SEM=?pp]\n",
      "VP[NUM=?n,GEN=?g,SEM=<?v(?a)>] -> VCOP[NUM=?n] A[NUM=?n,GEN=?g,SEM=?a]\n",
      "PP[+A, SEM=?np] -> P[+A] NP[SEM=?np]\n",
      "# Lexical Rules\n",
      "PropN[-LOC,NUM=sg,GEN=masc,SEM=<\\P.P(martin)>] -> 'Martín'\n",
      "PropN[-LOC,NUM=sg,GEN=fem,SEM=<\\P.P(cata)>] -> 'Cata'\n",
      "PropN[-LOC,NUM=sg,GEN=masc,SEM=<\\P.P(fede)>] -> 'Fede'\n",
      "PropN[-LOC,NUM=sg,GEN=masc,SEM=<\\P.P(pablo)>] -> 'Pablo'\n",
      "PropN[-LOC,NUM=sg,GEN=fem,SEM=<\\P.P(julia)>] -> 'Julia'\n",
      "PropN[-LOC,NUM=sg,GEN=masc,SEM=<\\P.P(fer)>] -> 'Fer'\n",
      "PropN[-LOC,NUM=sg,GEN=fem,SEM=<\\P.P(maca)>] -> 'Maca'\n",
      "Det[NUM=sg,GEN=masc,SEM=<\\P Q.exists x.(unico_ind_relevante_en_contexto(x) & P(x) & Q(x))>] -> 'el'\n",
      "Det[NUM=sg,GEN=fem,SEM=<\\P Q.exists x.(unico_ind_relevante_en_contexto(x) & P(x) & Q(x))>] -> 'la'\n",
      "Det[NUM=sg,GEN=masc,SEM=<\\P Q.exists x.(unico_ind_pl_relevante_en_contexto(x) & P(x) & Q(x))>] -> 'los'\n",
      "Det[NUM=sg,GEN=fem,SEM=<\\P Q.exists x.(unico_ind_pl_relevante_en_contexto(x) & P(x) & Q(x))>] -> 'las'\n",
      "Det[NUM=sg,GEN=masc,SEM=<\\P Q.exists x.(P(x) & Q(x))>] -> 'algún'\n",
      "Det[NUM=pl,GEN=masc,SEM=<\\P Q.exists x.(ind_pl(x) & P(x) & Q(x))>] -> 'algunos'\n",
      "Det[NUM=sg,GEN=fem,SEM=<\\P Q.exists x.(P(x) & Q(x))>] -> 'alguna'\n",
      "Det[NUM=pl,GEN=fem,SEM=<\\P Q.exists x.(ind_pl(x) & P(x) & Q(x))>] -> 'algunas'\n",
      "Det[NUM=sg,GEN=masc,SEM=<\\P Q.exists x.(P(x) & Q(x))>] -> 'un'\n",
      "Det[NUM=sg,GEN=fem,SEM=<\\P Q.exists x.(P(x) & Q(x))>] -> 'una'\n",
      "Det[NUM=pl,GEN=masc,SEM=<\\P Q.exists x.(ind_pl(x) & P(x) & Q(x))>] -> 'unos'\n",
      "Det[NUM=pl,GEN=fem,SEM=<\\P Q.exists x.(ind_pl(x) & P(x) & Q(x))>] -> 'unas'\n",
      "N[NUM=sg,GEN=masc,SEM=<\\x.globo(x)>] -> 'globo'\n",
      "N[NUM=pl,GEN=masc,SEM=<\\x.globo(x)>] -> 'globos'\n",
      "N[NUM=sg,GEN=fem,SEM=<\\x.chica(x)>] -> 'chica'\n",
      "N[NUM=sg,GEN=masc,SEM=<\\x.chico(x)>] -> 'chico'\n",
      "N[NUM=sg,GEN=masc,SEM=<\\x.hombre(x)>] -> 'hombre'\n",
      "N[NUM=pl,GEN=masc,SEM=<\\x.hombre(x)>] -> 'hombres'\n",
      "N[NUM=sg,GEN=fem,SEM=<\\x.mujer(x)>] -> 'mujer'\n",
      "N[NUM=pl,GEN=fem,SEM=<\\x.mujer(x)>] -> 'mujeres'\n",
      "N[NUM=sg,GEN=masc,SEM=<\\x.perro(x)>] -> 'perro'\n",
      "N[NUM=pl,GEN=masc,SEM=<\\x.perro(x)>] -> 'perros'\n",
      "N[NUM=sg,GEN=masc,SEM=<\\x.gato(x)>] -> 'gato'\n",
      "N[NUM=pl,GEN=masc,SEM=<\\x.gato(x)>] -> 'gatos'\n",
      "N[NUM=sg,GEN=masc,SEM=<\\x.regalo(x)>] -> 'regalo'\n",
      "N[NUM=pl,GEN=masc,SEM=<\\x.regalo(x)>] -> 'regalos'\n",
      "N[NUM=sg,GEN=masc,SEM=<\\x.paquete(x)>] -> 'paquete'\n",
      "N[NUM=pl,GEN=masc,SEM=<\\x.paquete(x)>] -> 'paquetes'\n",
      "N[NUM=sg,GEN=masc,SEM=<\\x.tabaco(x)>] -> 'tabaco'\n",
      "N[NUM=pl,GEN=masc,SEM=<\\x.cigarrillo(x)>] -> 'cigarrillos'\n",
      "N[NUM=sg,GEN=masc,SEM=<\\x.cigarrillo(x)>] -> 'cigarrillo'\n",
      "N[NUM=sg,GEN=masc,SEM=<\\x.libro(x)>] -> 'libro'\n",
      "N[NUM=pl,GEN=masc,SEM=<\\x.libro(x)>] -> 'libros'\n",
      "VCOP[NUM=sg] -> 'es'|'era'|'fue'\n",
      "VCOP[NUM=pl] -> 'son'|'eran'|'fueron'\n",
      "VCOP[NUM=sg] -> 'está'|'estaba'|'estuvo'\n",
      "VCOP[NUM=pl] -> 'están'|'estaban'|'estuvieron'\n",
      "IV[NUM=sg,SEM=<\\x.fumar(x)>,TNS=pres] -> 'fuma'\n",
      "IV[NUM=pl,SEM=<\\x.fumar(x)>,TNS=pres] -> 'fuman'\n",
      "IV[NUM=sg,SEM=<\\x.caminar(x)>,TNS=pres] -> 'camina'\n",
      "IV[NUM=pl,SEM=<\\x.caminar(x)>,TNS=pres] -> 'caminan'\n",
      "IV[NUM=sg,SEM=<\\x.correr(x)>,TNS=pres] -> 'corre'\n",
      "IV[NUM=pl,SEM=<\\x.correr(x)>,TNS=pres] -> 'corren'\n",
      "IV[NUM=sg,SEM=<\\x.correr(x)>,TNS=pas] -> 'corrió'\n",
      "IV[NUM=pl,SEM=<\\x.correr(x)>,TNS=pas] -> 'corrieron'\n",
      "IV[NUM=sg,SEM=<\\x.explotar(x)>,TNS=pres] -> 'explota'\n",
      "IV[NUM=pl,SEM=<\\x.explotar(x)>,TNS=pres] -> 'explotan'\n",
      "IV[NUM=sg,SEM=<\\x.explotar(x)>,TNS=pas] -> 'explotó'\n",
      "IV[NUM=pl,SEM=<\\x.explotar(x)>,TNS=pas] -> 'explotaron'\n",
      "TV[NUM=sg,SEM=<\\X x.X(\\y.mirar(x,y))>,TNS=pres] -> 'mira'\n",
      "TV[NUM=pl,SEM=<\\X x.X(\\y.mirar(x,y))>,TNS=pres] -> 'miran'\n",
      "TV[NUM=sg,SEM=<\\X x.X(\\y.romper(x,y))>,TNS=pres] -> 'rompe'\n",
      "TV[NUM=pl,SEM=<\\X x.X(\\y.romper(x,y))>,TNS=pres] -> 'rompen'\n",
      "TV[NUM=sg,SEM=<\\X x.X(\\y.morder(x,y))>,TNS=pres] -> 'muerde'\n",
      "TV[NUM=pl,SEM=<\\X x.X(\\y.morder(x,y))>,TNS=pres] -> 'muerden'\n",
      "DTV[NUM=sg,SEM=<\\Y X x.X(\\z.Y(\\y.dar(x,y,z)))>,TNS=pres] -> 'da'\n",
      "DTV[NUM=pl,SEM=<\\Y X x.X(\\z.Y(\\y.dar(x,y,z)))>,TNS=pres] -> 'dan'\n",
      "DTV[NUM=sg,SEM=<\\Y X x.X(\\z.Y(\\y.dar(x,y,z)))>,TNS=pas] -> 'dio'\n",
      "DTV[NUM=pl,SEM=<\\Y X x.X(\\z.Y(\\y.dar(x,y,z)))>,TNS=pas] -> 'dieron'\n",
      "DTV[NUM=sg,SEM=<\\Y X x.X(\\z.Y(\\y.entregar(x,y,z)))>,TNS=pres] -> 'entrega'\n",
      "DTV[NUM=pl,SEM=<\\Y X x.X(\\z.Y(\\y.entregar(x,y,z)))>,TNS=pres] -> 'entregan'\n",
      "DTV[NUM=sg,SEM=<\\Y X x.X(\\z.Y(\\y.entregar(x,y,z)))>,TNS=pas] -> 'entregó'\n",
      "DTV[NUM=pl,SEM=<\\Y X x.X(\\z.Y(\\y.entregar(x,y,z)))>,TNS=pas] -> 'entregaron'\n",
      "DTV[NUM=sg,SEM=<\\Y X x.X(\\z.Y(\\y.enviar(x,y,z)))>,TNS=pres] -> 'envía'\n",
      "DTV[NUM=pl,SEM=<\\Y X x.X(\\z.Y(\\y.enviar(x,y,z)))>,TNS=pres] -> 'envían'\n",
      "DTV[NUM=sg,SEM=<\\Y X x.X(\\z.Y(\\y.enviar(x,y,z)))>,TNS=pas] -> 'envió'\n",
      "DTV[NUM=pl,SEM=<\\Y X x.X(\\z.Y(\\y.enviar(x,y,z)))>,TNS=pas] -> 'enviaron'\n",
      "P[+a] -> 'a'\n",
      "A[NUM=sg,GEN=fem,SEM=<\\x.ocupado(x)>] -> 'ocupada'\n",
      "A[NUM=pl,GEN=fem,SEM=<\\x.ocupado(x)>] -> 'ocupadas'\n",
      "A[NUM=sg,GEN=masc,SEM=<\\x.ocupado(x)>] -> 'ocupado'\n",
      "A[NUM=pl,GEN=masc,SEM=<\\x.ocupado(x)>] -> 'ocupados'\n",
      "A[NUM=sg,GEN=fem,SEM=<\\x.cansado(x)>] -> 'cansada'\n",
      "A[NUM=pl,GEN=fem,SEM=<\\x.cansado(x)>] -> 'cansadas'\n",
      "A[NUM=sg,GEN=masc,SEM=<\\x.cansado(x)>] -> 'cansado'\n",
      "A[NUM=pl,GEN=masc,SEM=<\\x.cansado(x)>] -> 'cansados'\n",
      "A[NUM=sg,GEN=fem,SEM=<\\x.ocupado(x)>] -> 'fumada'\n",
      "A[NUM=pl,GEN=fem,SEM=<\\x.ocupado(x)>] -> 'fumadas'\n",
      "A[NUM=sg,GEN=masc,SEM=<\\x.ocupado(x)>] -> 'fumado'\n",
      "A[NUM=pl,GEN=masc,SEM=<\\x.ocupado(x)>] -> 'fumados'\n"
     ]
    }
   ],
   "source": [
    "nltk.data.show_cfg('gramaticas/pruebasemantica.fcfg')"
   ]
  },
  {
   "cell_type": "code",
   "execution_count": 14,
   "metadata": {},
   "outputs": [
    {
     "name": "stdout",
     "output_type": "stream",
     "text": [
      "(S[SEM=<fumar(cata)>]\n",
      "  (NP[GEN='fem', -LOC, NUM='sg', SEM=<\\P.P(cata)>]\n",
      "    (PropN[GEN='fem', -LOC, NUM='sg', SEM=<\\P.P(cata)>] Cata))\n",
      "  (VP[NUM='sg', SEM=<\\x.fumar(x)>]\n",
      "    (IV[NUM='sg', SEM=<\\x.fumar(x)>, TNS='pres'] fuma)))\n"
     ]
    }
   ],
   "source": [
    "sents = ['Cata fuma']\n",
    "grammar = 'gramaticas/pruebasemantica.fcfg'\n",
    "for results in nltk.interpret_sents(sents, grammar):\n",
    "    for (synrep, semrep) in results:\n",
    "             print(synrep)"
   ]
  },
  {
   "cell_type": "markdown",
   "metadata": {},
   "source": [
    "## Referencias"
   ]
  },
  {
   "cell_type": "markdown",
   "metadata": {},
   "source": [
    "- Bird, S., Klein, E., y Loper, E. (2009). _Natural language processing with Python: analyzing text with the natural language toolkit_. “O’Reilly Media, Inc.”. “Chapter 9: Building FeatureBased Grammars”, pp. 327–360.\n",
    "- Blevins, J. P. (2011). Feature-based grammar. En _NonTransformational Syntax_, pp. 297–324. Wiley Blackwell, Massachusetts."
   ]
  },
  {
   "cell_type": "code",
   "execution_count": null,
   "metadata": {},
   "outputs": [],
   "source": []
  }
 ],
 "metadata": {
  "kernelspec": {
   "display_name": "Python 3 (ipykernel)",
   "language": "python",
   "name": "python3"
  },
  "language_info": {
   "codemirror_mode": {
    "name": "ipython",
    "version": 3
   },
   "file_extension": ".py",
   "mimetype": "text/x-python",
   "name": "python",
   "nbconvert_exporter": "python",
   "pygments_lexer": "ipython3",
   "version": "3.8.10"
  }
 },
 "nbformat": 4,
 "nbformat_minor": 4
}
