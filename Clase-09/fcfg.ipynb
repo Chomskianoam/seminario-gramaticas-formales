{
 "cells": [
  {
   "cell_type": "markdown",
   "metadata": {},
   "source": [
    "# Gramáticas basadas en rasgos"
   ]
  },
  {
   "cell_type": "markdown",
   "metadata": {},
   "source": [
    "Para esta clase, puede ser de utilidad la siguiente bibliografía:\n",
    "\n",
    "- [NLTK Book: Chapter 9, Building Feature Based Grammars](https://www.nltk.org/book/ch09.html)\n",
    "- [NLTK (documentación de librería): Sample usage for featstruct](https://www.nltk.org/howto/featstruct.html)"
   ]
  },
  {
   "cell_type": "code",
   "execution_count": null,
   "metadata": {},
   "outputs": [],
   "source": [
    "#Temas de Python que me parece que vamos a tocar en esta clase:\n",
    "#\n",
    "#- Diccionarios\n",
    "#- Conjuntos\n",
    "#- Funciones\n",
    "#- Herencia\n",
    "#- `*args`\n",
    "#- Métodos de NLTK\n",
    "#- Función `lambda`"
   ]
  },
  {
   "cell_type": "code",
   "execution_count": null,
   "metadata": {},
   "outputs": [],
   "source": [
    "# importa librería nltk\n",
    "import nltk"
   ]
  },
  {
   "cell_type": "code",
   "execution_count": null,
   "metadata": {},
   "outputs": [],
   "source": [
    "# comentario\n",
    "# no sé si al inicio porque me parece medio colgado, pero podríamos hacer esto que vos querías de ir a la carpeta\n",
    "# donde está ubicada la librería y mostrarles que no es otra cosa que una carpeta con archivos y código en Python\n",
    "# no sé si conviene hacerlo en esta instancia o más adelante, cuando importemos el FeatStruct, por ejemplo\n",
    "# PD: voy a ir dejando comentarios así"
   ]
  },
  {
   "cell_type": "markdown",
   "metadata": {},
   "source": [
    "## Estructuras de rasgos"
   ]
  },
  {
   "cell_type": "code",
   "execution_count": null,
   "metadata": {},
   "outputs": [],
   "source": [
    "# pongo algunas estructuras para que nos sirvan\n",
    "# de guía para ir armando con código\n",
    "# elegí estas porque\n",
    "# - la de torta nos permite mostrar el rasgo PLU como un bool\n",
    "# - las otras nos permiten mostrar cómo armar rasgos complejos\n",
    "# - el ejemplo de la unificación (es el mismo que estaba en clase)\n",
    "# nos va a permitir pensar el tema de la implementación de la\n",
    "# unificación (podemos representar la estructura como un diccionario\n",
    "# pero después no tenemos cómo unificar eso a menos que lo\n",
    "# implementemos o que ya alguien haya hecho algo similar por\n",
    "# nosotros, en este caso, les muchaches de NLTK)"
   ]
  },
  {
   "cell_type": "markdown",
   "metadata": {},
   "source": [
    "(A)N = \\begin{equation}\n",
    "\\begin{bmatrix}\n",
    "\\text{SIGNIFICANTE torta}\\\\\n",
    "\\text{LEXEMA torta}\\\\\n",
    "\\text{CAT N}\\\\\n",
    "\\text{GEN fem}\\\\\n",
    "\\text{PLU -}\\\\\n",
    "\\end{bmatrix}\n",
    "\\end{equation}\n",
    "\n",
    "(B)\\begin{equation}\n",
    "N = \\begin{bmatrix}\n",
    "\\text{LEX virus}\\\\\n",
    "\\text{CAT N}\\\\\n",
    "\\text{CONC }\\begin{bmatrix}\n",
    "\\text{NUM [ ]}\\\\\n",
    "\\text{GEN masc}\n",
    "\\end{bmatrix}\n",
    "\\end{bmatrix}\n",
    "\\end{equation}\n",
    "\n",
    "(C)\\begin{equation}\n",
    "ADJ = \\begin{bmatrix}\n",
    "\\text{LEX mutantes}\\\\\n",
    "\\text{CAT ADJ}\\\\\n",
    "\\text{CONC }\\begin{bmatrix}\n",
    "\\text{NUM pl}\\\\\n",
    "\\text{GEN masc}\n",
    "\\end{bmatrix}\n",
    "\\end{bmatrix}\n",
    "\\end{equation}"
   ]
  },
  {
   "cell_type": "markdown",
   "metadata": {},
   "source": [
    "### Representación con diccionarios"
   ]
  },
  {
   "cell_type": "markdown",
   "metadata": {},
   "source": [
    "Los diccionarios son un tipo de objeto primitivo de Python en el que podemos agregar entradas, llamadas llaves (_keys_), y asignarles un valor o dato asociado (_value_). Un dato importante para la construcción de diccionarios es que estos no pueden tener _keys_ repetidas. En caso de querer insertar una _key_ que ya se encontraba en un diccionario, se sobreescribirá su valor.\n",
    "\n",
    "Podemos aprovechar este objeto para representar una estructura de rasgos."
   ]
  },
  {
   "cell_type": "code",
   "execution_count": null,
   "metadata": {},
   "outputs": [],
   "source": [
    "fs_a_dict = {\n",
    "    'SIGNIFICANTE':'torta',\n",
    "    'LEXEMA':'torta',\n",
    "    'CAT':'N',\n",
    "    'GEN':'fem',\n",
    "    'PLU':False\n",
    "}\n",
    "fs_a_dict"
   ]
  },
  {
   "cell_type": "code",
   "execution_count": null,
   "metadata": {},
   "outputs": [],
   "source": [
    "fs_a_dict['GEN']"
   ]
  },
  {
   "cell_type": "code",
   "execution_count": null,
   "metadata": {},
   "outputs": [],
   "source": [
    "# sobreescribe un valor\n",
    "\n",
    "fs_a_dict['LEXEMA']='tortas'\n",
    "fs_a_dict['PLU']=True\n",
    "\n",
    "fs_a_dict"
   ]
  },
  {
   "cell_type": "markdown",
   "metadata": {},
   "source": [
    "`True` y `False` son objetos de tipo booleano, permiten indicar que algo es verdadero o falso, respectivamente. Aquí los usamos para indicar si el atributo _PLU_ está presente o no. También podríamos usar un `string` que indicase \"+\" o \"-\", pero este tipo de dato resulta más apropiado para lo que se desea representa."
   ]
  },
  {
   "cell_type": "code",
   "execution_count": null,
   "metadata": {},
   "outputs": [],
   "source": [
    "# arma un diccionario vacío\n",
    "\n",
    "fs_b_dict = dict()\n",
    "fs_b_dict"
   ]
  },
  {
   "cell_type": "code",
   "execution_count": null,
   "metadata": {},
   "outputs": [],
   "source": [
    "# agrega rasgos de a uno\n",
    "\n",
    "fs_b_dict['LEX'] = 'virus'\n",
    "fs_b_dict"
   ]
  },
  {
   "cell_type": "code",
   "execution_count": null,
   "metadata": {},
   "outputs": [],
   "source": [
    "fs_b_dict['CAT'] = 'N'\n",
    "fs_b_dict"
   ]
  },
  {
   "cell_type": "code",
   "execution_count": null,
   "metadata": {},
   "outputs": [],
   "source": [
    "# agrega un rasgo complejo\n",
    "\n",
    "fs_b_dict['CONC'] = {\n",
    "    'NUM':None,\n",
    "    'GEN':'masc'\n",
    "}\n",
    "\n",
    "fs_b_dict"
   ]
  },
  {
   "cell_type": "markdown",
   "metadata": {},
   "source": [
    "`None` es un valor que se utiliza para indicar \"nulo\". Aquí lo usamos para indiar que el atributo _NUM_ no se encuentra especificaco."
   ]
  },
  {
   "cell_type": "code",
   "execution_count": null,
   "metadata": {},
   "outputs": [],
   "source": [
    "# arma un diccionario vacío\n",
    "\n",
    "fs_c_dict = dict()\n",
    "fs_c_dict"
   ]
  },
  {
   "cell_type": "code",
   "execution_count": null,
   "metadata": {},
   "outputs": [],
   "source": [
    "# actualiza el diccionario vacío\n",
    "# con el contenido de otro diccionario\n",
    "\n",
    "fs_c_dict.update(\n",
    "    {\n",
    "        'LEX': 'mutantes',\n",
    "        'CAT': 'ADJ',\n",
    "        'CONC': {\n",
    "            'NUM': 'pl',\n",
    "            'GEN': 'masc'}\n",
    "    }\n",
    ")\n",
    "\n",
    "fs_c_dict"
   ]
  },
  {
   "cell_type": "markdown",
   "metadata": {},
   "source": [
    "¿Podríamos utilizar el método `update` para realizar la unificación de dos estructuras así representadas? Probémoslo."
   ]
  },
  {
   "cell_type": "code",
   "execution_count": null,
   "metadata": {},
   "outputs": [],
   "source": [
    "fs_sn_dict = dict()\n",
    "fs_sn_dict.update(fs_b_dict)\n",
    "fs_sn_dict"
   ]
  },
  {
   "cell_type": "code",
   "execution_count": null,
   "metadata": {},
   "outputs": [],
   "source": [
    "fs_sn_dict.update(fs_c_dict)\n",
    "fs_sn_dict"
   ]
  },
  {
   "cell_type": "markdown",
   "metadata": {},
   "source": [
    "El atributo _CONC_, cuyo atributo _NUM_ se encontraba subespecificado, fue reemplazado con la información más específica de la estructura del ítem léxico \"mutantes\". Sin embargo, este procedimiento también sobreescribió el valor del atributo _CAT_ y le asignó una categoría que no es la quisiéamos ver en ese rasgo.\n",
    "\n",
    "Probemos qué sucede si lo hacemos de manera inversa, primero actualizando con los valores del adjetivo y, luego, del nombre:"
   ]
  },
  {
   "cell_type": "code",
   "execution_count": null,
   "metadata": {},
   "outputs": [],
   "source": [
    "fs_sn_dict = dict()\n",
    "fs_sn_dict.update(fs_c_dict)\n",
    "fs_sn_dict"
   ]
  },
  {
   "cell_type": "code",
   "execution_count": null,
   "metadata": {},
   "outputs": [],
   "source": [
    "fs_sn_dict.update(fs_b_dict)\n",
    "fs_sn_dict"
   ]
  },
  {
   "cell_type": "markdown",
   "metadata": {},
   "source": [
    "Ahora tenemos una categoría que se aproxima un poco más a lo que quisiéramos (sin ser el \"SN\" que nos gustaría), pero tenemos subespecificado el atributo _NUM_."
   ]
  },
  {
   "cell_type": "markdown",
   "metadata": {},
   "source": [
    "El método `update`, como recurso para unificar estrucuras, solo resulta útil (y no conlleva efectos indeseados) cuando las estructuras involucradas contienen exactamente los mismo valores asignados a los mismos atributos o tienen rasgos no compartidos (_i.e._ alguna o ambas tiene un par <atributo, valor> que la otra no). Recordemos las estructuras indicadas por Blevins(2011) para \"él\" (D, izq.) y \"canta\" (D, der.)."
   ]
  },
  {
   "cell_type": "markdown",
   "metadata": {},
   "source": [
    "(D)\\begin{equation}\n",
    "\\begin{bmatrix}\n",
    "\\text{PER 3}\\\\\n",
    "\\text{NUM sg}\\\\\n",
    "\\text{GEN masc}\\\\\n",
    "\\text{CASO nom}\n",
    "\\end{bmatrix}\n",
    "\\sqcup\n",
    "\\begin{bmatrix}\n",
    "\\text{PER 3}\\\\\n",
    "\\text{NUM sg}\\\\\n",
    "\\text{CASO nom}\n",
    "\\end{bmatrix}\n",
    "\\end{equation}"
   ]
  },
  {
   "cell_type": "code",
   "execution_count": null,
   "metadata": {},
   "outputs": [],
   "source": [
    "fs_d_1 = {\n",
    "    'PER':3,\n",
    "    'NUM':'sg',\n",
    "    'GEN':'masc',\n",
    "    'CASO':'nom'\n",
    "}\n",
    "fs_d_2 = {\n",
    "    'PER':3,\n",
    "    'NUM':'sg',\n",
    "    'CASO':'nom'\n",
    "}"
   ]
  },
  {
   "cell_type": "code",
   "execution_count": null,
   "metadata": {},
   "outputs": [],
   "source": [
    "fs_d_1"
   ]
  },
  {
   "cell_type": "code",
   "execution_count": null,
   "metadata": {},
   "outputs": [],
   "source": [
    "fs_d_2"
   ]
  },
  {
   "cell_type": "code",
   "execution_count": null,
   "metadata": {},
   "outputs": [],
   "source": [
    "fs_d = fs_d_1\n",
    "fs_d.update(fs_d_2)\n",
    "fs_d"
   ]
  },
  {
   "cell_type": "markdown",
   "metadata": {},
   "source": [
    "Limitaciones de la representación con diccionarios:\n",
    "\n",
    "- no brinda un método sencillo para realizar el proceso de unificación"
   ]
  },
  {
   "cell_type": "markdown",
   "metadata": {},
   "source": [
    "### Representación como conjuntos"
   ]
  },
  {
   "cell_type": "markdown",
   "metadata": {},
   "source": [
    "### Representación con NLTK"
   ]
  },
  {
   "cell_type": "code",
   "execution_count": null,
   "metadata": {},
   "outputs": [],
   "source": [
    "fs1 = nltk.FeatStruct(TENSE='past', CHICHO=True)"
   ]
  },
  {
   "cell_type": "code",
   "execution_count": null,
   "metadata": {},
   "outputs": [],
   "source": [
    "fs2 = nltk.FeatStruct(CAT='V')"
   ]
  },
  {
   "cell_type": "code",
   "execution_count": null,
   "metadata": {},
   "outputs": [],
   "source": [
    "fs3 = nltk.FeatStruct(CAT='V', TENSE='present')"
   ]
  },
  {
   "cell_type": "code",
   "execution_count": null,
   "metadata": {},
   "outputs": [],
   "source": [
    "fs3 = nltk.FeatStruct(\"\"\"[CAT=V, TENSE=present]\"\"\")"
   ]
  },
  {
   "cell_type": "code",
   "execution_count": null,
   "metadata": {},
   "outputs": [],
   "source": [
    "# explicar representación de inespecificidad"
   ]
  },
  {
   "cell_type": "markdown",
   "metadata": {
    "tags": []
   },
   "source": [
    "### Representación con un grafo"
   ]
  },
  {
   "cell_type": "code",
   "execution_count": null,
   "metadata": {},
   "outputs": [],
   "source": [
    "# armar"
   ]
  },
  {
   "cell_type": "markdown",
   "metadata": {},
   "source": [
    "## Estructuras de rasgos como funciones"
   ]
  },
  {
   "cell_type": "markdown",
   "metadata": {},
   "source": [
    "Acá podemos mostrar:\n",
    "- función que toma un atributo y devuelve un valor\n",
    "- función que toma un path de atributos y devuelve el valor siguiendo ese path\n",
    "\n",
    "Para esto -> armar una clase que herede de FeatStruct e implementar un método que recorra la estructura. Como argumento de la función usar `*args`.\n",
    "\n",
    "Podemos aprovechar y ver el paralelismo con la noción de herencia, que tiene una procedencia computacional."
   ]
  },
  {
   "cell_type": "markdown",
   "metadata": {},
   "source": [
    "## Unificación"
   ]
  },
  {
   "cell_type": "code",
   "execution_count": null,
   "metadata": {},
   "outputs": [],
   "source": [
    "print(fs1.unify(fs3, trace=1))"
   ]
  },
  {
   "cell_type": "markdown",
   "metadata": {},
   "source": [
    "Acá mostrar:\n",
    "\n",
    "- unificación exitosa\n",
    "- unificación fallida\n",
    "- unificación vs. unión: antes vimos que las estructuras se pueden representar como conjuntos. Este es un buen momento para mostrar que la unificación y la unión funcionan distinto y que la única situación en la que funcionan igual es con rasgos atómicos."
   ]
  },
  {
   "cell_type": "markdown",
   "metadata": {},
   "source": [
    "## Subsunción"
   ]
  },
  {
   "cell_type": "code",
   "execution_count": null,
   "metadata": {},
   "outputs": [],
   "source": [
    "fs2.subsumes(fs3)"
   ]
  },
  {
   "cell_type": "markdown",
   "metadata": {},
   "source": [
    "## Rasgos atómicos y complejos"
   ]
  },
  {
   "cell_type": "code",
   "execution_count": null,
   "metadata": {},
   "outputs": [],
   "source": [
    "fs = nltk.FeatStruct(CAT='V', NUM='plu')"
   ]
  },
  {
   "cell_type": "code",
   "execution_count": null,
   "metadata": {},
   "outputs": [],
   "source": [
    "fs"
   ]
  },
  {
   "cell_type": "code",
   "execution_count": null,
   "metadata": {},
   "outputs": [],
   "source": [
    "fs['CONCORD'] = fs"
   ]
  },
  {
   "cell_type": "code",
   "execution_count": null,
   "metadata": {},
   "outputs": [],
   "source": [
    "fs"
   ]
  },
  {
   "cell_type": "code",
   "execution_count": null,
   "metadata": {},
   "outputs": [],
   "source": [
    "fs.cyclic()"
   ]
  },
  {
   "cell_type": "code",
   "execution_count": null,
   "metadata": {},
   "outputs": [],
   "source": [
    "# retomar feature sharing\n",
    "# recordar que compartir rasgos no es lo mismo que tener duplicada la misma información\n",
    "# mostrar con equal_values y hablar sobre reentrancia"
   ]
  },
  {
   "cell_type": "code",
   "execution_count": null,
   "metadata": {},
   "outputs": [],
   "source": [
    "fs.equal_values(fs, check_reentrance=False)"
   ]
  },
  {
   "cell_type": "markdown",
   "metadata": {},
   "source": [
    "Acá también podríamos mostrar que una estructura que comparte rasgos es más específica que una que no los comparte aunque tiene esepecificados los mismos valores para los mismos atributos."
   ]
  },
  {
   "cell_type": "markdown",
   "metadata": {},
   "source": [
    "## Construcción de una gramática"
   ]
  },
  {
   "cell_type": "code",
   "execution_count": null,
   "metadata": {},
   "outputs": [],
   "source": [
    "nltk.data.show_cfg('gramaticas/GramaticaDeRasgos.fcfg')"
   ]
  },
  {
   "cell_type": "code",
   "execution_count": null,
   "metadata": {},
   "outputs": [],
   "source": [
    "sentence = 'los chicas caminan'\n",
    "tokens = sentence.split()\n",
    "print(sentence)\n",
    "print(type(sentence))\n",
    "print(tokens)\n",
    "print(type(tokens))"
   ]
  },
  {
   "cell_type": "code",
   "execution_count": null,
   "metadata": {},
   "outputs": [],
   "source": [
    "from nltk import load_parser\n",
    "cp = load_parser('gramaticas/GramaticaDeRasgos.fcfg', trace=2)\n",
    "for tree in cp.parse(tokens):\n",
    "     print(tree)"
   ]
  },
  {
   "cell_type": "markdown",
   "metadata": {},
   "source": [
    "## Uso de rasgos para significado"
   ]
  },
  {
   "cell_type": "markdown",
   "metadata": {},
   "source": [
    "Los rasgos pueden utilizarse a su vez para construir una representación semántica de las oraciones.\n",
    "\n",
    "En semántica formal existe una función particular, que se conoce con el nombre de función interpretación, y que se anota con corchetes dobles. La función interpretación devuelve por cada expresión lingüística su denotación. Las denotaciones pueden ser de dos tipos: \n",
    "\n",
    "- elementos atómicos (típicamente objetos o proposiciones, pero también hay otras ontologías que incluyen mundos posibles, eventos y tiempos, entre otras cosas)\n",
    "- funciones. \n",
    "\n",
    "El uso de rasgos para dar cuenta del significado consiste en que la función denotación sea el valor de un rasgo semántico.\n",
    "\n",
    "En el [libro de NLTK](https://www.nltk.org/book/ch10.html) y en la [documentación de NLTK](http://nltk.sourceforge.net/doc/en/ch11.html) hay información sobre cómo implementar esto mediante una gramática de rasgos en NLTK.\n",
    "\n",
    "\n",
    "Las funciones equivalen a conjuntos y se expresan en el llamado cálculo lambda. \n",
    "\n",
    "\\x. x fuma\n",
    "\n",
    "Esta es una función que toma un x y devuelve verdadero si x fuma y falso si x no fuma. En términos de conjuntos equivale al conjunto de todos los fumadores (ténicamente equivale al conjunto característico de todos los fumadores, que es el que devuelve verdadero si x fuma y falso si x no fuma).\n",
    "\n",
    "Hay dos operaciones básicas de cálculo lambda que son particularmente relevantes (una tercera no tuvo tanta repercusión en la semántica formal):\n",
    "\n",
    "- Conversión alpha (o reducción alpha): cambiar el nombre de una variable y, conjuntamente, el de todas las variables ligadas con ella.\n",
    "`[\\x. x fuma] = [\\y. y fuma] = [\\z. z fuma] = ...`\n",
    "- Conversión lambda (o reducción beta): cuando combinamos una función con un argumento, eliminar el prefijo lambda y reemplazar todas las ocurrencias de la variable que introduce ese prefijo por el argumento.\n",
    "\n",
    "- `[\\x. x fuma](cata) = cata fuma`\n",
    "- `[\\f. f](\\x. x fuma) = \\x. x fuma`\n",
    "- `[\\f. [\\g. [\\x. g(x)=f(x)=1]]](\\x. x fuma)(\\x. x baila) = [\\x. [\\x. x fuma](x)=[\\x. x baila](x)=1] = [\\x x fuma y x baila]` \n",
    "\n",
    "Las interpretación semántica de las expresiones lingüísticas se da a partir del significado de sus partes y su combinación mediante reglas que dependen de la forma del árbol y de los tipos de las funciones. Las reglas más frecuentes son: \n",
    "\n",
    "- Aplicación funcional: Si un nodo A domina a dos nodos B y C tales que B es una función cuyo dominio incluye a C, entonces [[A]]=[[B]]([[C]])\n",
    "- Modificación de predicados: Si un nodo A domina a dos nodos B y C tales que los dos nodos son funciones que van del dominio de los individuos al dominio de los valores de verdad, entonces [[A]] = \\x. [[B]]=[[C]]=1\n",
    "\n",
    "Las fcfg implementan la función intepretación como valor de un rasgo semántico y reemplazando las reglas que dependen de la forma del árbol directamente por restricciones en las reglas de reescritura. Estas restricciones consisten básicamente en la unificación mediante variables idénticas."
   ]
  },
  {
   "cell_type": "code",
   "execution_count": null,
   "metadata": {},
   "outputs": [],
   "source": [
    "nltk.data.show_cfg('gramaticas/pruebasemantica.fcfg')"
   ]
  },
  {
   "cell_type": "code",
   "execution_count": null,
   "metadata": {},
   "outputs": [],
   "source": [
    "sents = ['Cata fuma']\n",
    "grammar = 'gramaticas/pruebasemantica.fcfg'\n",
    "for results in nltk.interpret_sents(sents, grammar):\n",
    "    for (synrep, semrep) in results:\n",
    "             print(synrep)"
   ]
  },
  {
   "cell_type": "markdown",
   "metadata": {},
   "source": [
    "## Semántica eventiva\n",
    "\n",
    "Un tipo de semántica formal que hoy ha ganado mucha popularidad es la semántica eventiva. La semántica eventiva concibe el significado de las oraciones como cuantificación sobre eventos: \n",
    "\n",
    "- Juan le dio ayer el libro a Pedro en la casa.\n",
    "- Existe un e tal que Agente(e, Juan) & Tema(e, el libro) & Meta(e, Pedro) & en(e, la casa) & Pasado(e)\n",
    "\n",
    "La semántica neodavidsoniana permite dispensar de grandes listas de subclases (verbos transitivos, verbos intransitivos, verbos ditransitivos, verbos bivalentes, verbos impersonales, verbos que toman distintos tipos de sintagmas preposicionales) y simplificar, en consecuencia, el léxico. Esto se hace al costo de dar una denotación más compleja a las entradas léxicas (que sin embargo, se puede automatizar si se tienen listas léxicas como las de freeling) y a las reglas de reescritura. Este tipo de enfoques propenden a sobregenerar, pero, naturalmente, este no es un problema si lo que nos interesa es parsear oraciones."
   ]
  },
  {
   "cell_type": "code",
   "execution_count": null,
   "metadata": {},
   "outputs": [],
   "source": [
    "sents = ['Cata dio Ficciones a Chafa']\n",
    "grammar = 'gramaticas/semantica_eventiva_base.fcfg'\n",
    "for results in nltk.interpret_sents(sents, grammar):\n",
    "    for (synrep, semrep) in results:\n",
    "             print(synrep)"
   ]
  }
 ],
 "metadata": {
  "kernelspec": {
   "display_name": "Python 3",
   "language": "python",
   "name": "python3"
  },
  "language_info": {
   "codemirror_mode": {
    "name": "ipython",
    "version": 3
   },
   "file_extension": ".py",
   "mimetype": "text/x-python",
   "name": "python",
   "nbconvert_exporter": "python",
   "pygments_lexer": "ipython3",
   "version": "3.8.10"
  }
 },
 "nbformat": 4,
 "nbformat_minor": 4
}
