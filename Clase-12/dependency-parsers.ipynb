{
 "cells": [
  {
   "cell_type": "markdown",
   "metadata": {
    "tags": []
   },
   "source": [
    "# Parsers de dependencias"
   ]
  },
  {
   "cell_type": "markdown",
   "metadata": {},
   "source": [
    "## Requerimientos\n",
    "- Python 3\n",
    "- Spacy\n",
    "- NLTK\n",
    "- MaltParser\n",
    "- Stanza"
   ]
  },
  {
   "cell_type": "code",
   "execution_count": 1,
   "metadata": {},
   "outputs": [],
   "source": [
    "import re\n",
    "import nltk\n",
    "import spacy\n",
    "from nltk import Tree\n",
    "from spacy import displacy \n",
    "from nltk.parse import malt"
   ]
  },
  {
   "cell_type": "markdown",
   "metadata": {},
   "source": [
    "No poseen distinción entre símbolos no terminales y terminales. Las estructuras representan relaciones de dependencia entre terminales.\n",
    "Ejemplos de parsers de dependencias:\n",
    "* [Projective Dependency Parser de NLTK](https://www.nltk.org/_modules/nltk/parse/projectivedependencyparser.html)\n",
    "* [Maltparser](http://www.maltparser.org/)\n",
    "* SyntaxNet (Estaba alojado en https://opensource.google.com/projects/syntaxnet, como parte de los recursos de la librería para Inteligencia Artificial TensorFlow de Google, pero en este momento no está disponible y [se rumorea](https://github.com/tensorflow/models/issues/8411) que se lo va a mover al github de [google-research](https://github.com/google-research/google-research))\n",
    "* [Dependency parser de Spacy](https://spacy.io/usage/linguistic-features#dependency-parse)"
   ]
  },
  {
   "cell_type": "markdown",
   "metadata": {},
   "source": [
    "## Projective Dependency Parser NLTK"
   ]
  },
  {
   "cell_type": "code",
   "execution_count": 10,
   "metadata": {},
   "outputs": [],
   "source": [
    "def dep_parser(sentence, grammar):         # define una función llamada dep_parser con dos argumentos\n",
    "    sentence = sentence.lower()            # convierte a minúscula la oración\n",
    "    if sentence.endswith('.'):             # si la oración termina con un punto\n",
    "        sent = re.sub('\\.','',sentence)    # se lo quita\n",
    "    else:                                  # si no\n",
    "        sent = sentence                    # la toma como está\n",
    "    sent = sent.split()                    # divide la oración en palabras\n",
    "    dep_gram = nltk.data.load(grammar, cache=False) # carga la gramática a nltk\n",
    "    dep_gram = nltk.DependencyGrammar.fromstring(dep_gram) # parsea la gramática como gramática de dependencias\n",
    "    pdp = nltk.ProjectiveDependencyParser(dep_gram) # aarga la gramática en el parser\n",
    "    for tree in pdp.parse(sent):           # para cada árbol posible en mi gramática para esa oración\n",
    "        print(tree)                        # lo imprime\n",
    "        return(tree)"
   ]
  },
  {
   "cell_type": "code",
   "execution_count": 67,
   "metadata": {},
   "outputs": [
    {
     "name": "stdout",
     "output_type": "stream",
     "text": [
      "(explotó pablo (globo el))\n"
     ]
    },
    {
     "data": {
      "image/svg+xml": [
       "<svg baseProfile=\"full\" height=\"120px\" preserveAspectRatio=\"xMidYMid meet\" style=\"font-family: times, serif; font-weight:normal; font-style: normal; font-size: 16px;\" version=\"1.1\" viewBox=\"0,0,112.0,120.0\" width=\"112px\" xmlns=\"http://www.w3.org/2000/svg\" xmlns:ev=\"http://www.w3.org/2001/xml-events\" xmlns:xlink=\"http://www.w3.org/1999/xlink\"><defs /><svg width=\"100%\" x=\"0\" y=\"0em\"><defs /><text text-anchor=\"middle\" x=\"50%\" y=\"1em\">explotó</text></svg><svg width=\"50%\" x=\"0%\" y=\"3em\"><defs /><svg width=\"100%\" x=\"0\" y=\"0em\"><defs /><text text-anchor=\"middle\" x=\"50%\" y=\"1em\">pablo</text></svg></svg><line stroke=\"black\" x1=\"50%\" x2=\"25%\" y1=\"1.2em\" y2=\"3em\" /><svg width=\"50%\" x=\"50%\" y=\"3em\"><defs /><svg width=\"100%\" x=\"0\" y=\"0em\"><defs /><text text-anchor=\"middle\" x=\"50%\" y=\"1em\">globo</text></svg><svg width=\"100%\" x=\"0%\" y=\"3em\"><defs /><svg width=\"100%\" x=\"0\" y=\"0em\"><defs /><text text-anchor=\"middle\" x=\"50%\" y=\"1em\">el</text></svg></svg><line stroke=\"black\" x1=\"50%\" x2=\"50%\" y1=\"1.2em\" y2=\"3em\" /></svg><line stroke=\"black\" x1=\"50%\" x2=\"75%\" y1=\"1.2em\" y2=\"3em\" /></svg>"
      ],
      "text/plain": [
       "Tree('explotó', ['pablo', Tree('globo', ['el'])])"
      ]
     },
     "execution_count": 67,
     "metadata": {},
     "output_type": "execute_result"
    }
   ],
   "source": [
    "#Para correr el Proyective Dependency Parser\n",
    "\n",
    "oracion1 = 'Pablo explotó el globo'    # Define la oración a analizar\n",
    "grammar = 'gramaticas/DG1.txt'        # establece cuál va a ser mi gramática\n",
    "dep_parser(oracion1, grammar)          # Para correr la función"
   ]
  },
  {
   "cell_type": "markdown",
   "metadata": {},
   "source": [
    "## Non-Projective Dependency Parser NLTK"
   ]
  },
  {
   "cell_type": "code",
   "execution_count": 37,
   "metadata": {},
   "outputs": [],
   "source": [
    "def npdep_parser(sentence, grammar):                # define una función llamada dep_parser con dos argumentos\n",
    "    sentence = sentence.lower()                     # convierte a minúscula la oración\n",
    "    if sentence.endswith('.'):                      # si la oración termina con un punto\n",
    "        sent = re.sub('\\.',' ',sentence)            # se lo quita\n",
    "    else:                                           # si no\n",
    "        sent = sentence                             # la toma como está\n",
    "    sent = sent.split()                             # divide la oración en palabras\n",
    "    dep_gram = nltk.data.load(grammar, cache=False) # carga la gramática a nltk\n",
    "    dep_gram = nltk.DependencyGrammar.fromstring(dep_gram) # parsea la gramática como gramática de dependencias\n",
    "    pdp = nltk.NonprojectiveDependencyParser(dep_gram) # carga la gramática en el parser\n",
    "    for tree in pdp.parse(sent):\n",
    "        print(tree.tree().draw())\n",
    "    return tree.tree()"
   ]
  },
  {
   "cell_type": "code",
   "execution_count": 39,
   "metadata": {},
   "outputs": [
    {
     "name": "stdout",
     "output_type": "stream",
     "text": [
      "None\n",
      "None\n"
     ]
    },
    {
     "data": {
      "image/svg+xml": [
       "<svg baseProfile=\"full\" height=\"168px\" preserveAspectRatio=\"xMidYMid meet\" style=\"font-family: times, serif; font-weight:normal; font-style: normal; font-size: 16px;\" version=\"1.1\" viewBox=\"0,0,96.0,168.0\" width=\"96px\" xmlns=\"http://www.w3.org/2000/svg\" xmlns:ev=\"http://www.w3.org/2001/xml-events\" xmlns:xlink=\"http://www.w3.org/1999/xlink\"><defs /><svg width=\"100%\" x=\"0\" y=\"0em\"><defs /><text text-anchor=\"middle\" x=\"50%\" y=\"1em\">dijo</text></svg><svg width=\"50%\" x=\"0%\" y=\"3em\"><defs /><svg width=\"100%\" x=\"0\" y=\"0em\"><defs /><text text-anchor=\"middle\" x=\"50%\" y=\"1em\">fede</text></svg></svg><line stroke=\"black\" x1=\"50%\" x2=\"25%\" y1=\"1.2em\" y2=\"3em\" /><svg width=\"50%\" x=\"50%\" y=\"3em\"><defs /><svg width=\"100%\" x=\"0\" y=\"0em\"><defs /><text text-anchor=\"middle\" x=\"50%\" y=\"1em\">que</text></svg><svg width=\"100%\" x=\"0%\" y=\"3em\"><defs /><svg width=\"100%\" x=\"0\" y=\"0em\"><defs /><text text-anchor=\"middle\" x=\"50%\" y=\"1em\">fuma</text></svg><svg width=\"100%\" x=\"0%\" y=\"3em\"><defs /><svg width=\"100%\" x=\"0\" y=\"0em\"><defs /><text text-anchor=\"middle\" x=\"50%\" y=\"1em\">qué</text></svg></svg><line stroke=\"black\" x1=\"50%\" x2=\"50%\" y1=\"1.2em\" y2=\"3em\" /></svg><line stroke=\"black\" x1=\"50%\" x2=\"50%\" y1=\"1.2em\" y2=\"3em\" /></svg><line stroke=\"black\" x1=\"50%\" x2=\"75%\" y1=\"1.2em\" y2=\"3em\" /></svg>"
      ],
      "text/plain": [
       "Tree('dijo', ['fede', Tree('que', [Tree('fuma', ['qué'])])])"
      ]
     },
     "execution_count": 39,
     "metadata": {},
     "output_type": "execute_result"
    }
   ],
   "source": [
    "#Para correr el Nonproyective Dependency Parser\n",
    "\n",
    "#oracion2 = 'quién fuma el cigarrillo'  # Define la oración a analizar\n",
    "#oracion2 = 'quién dijo fede que fuma'  # Define la oración a analizar\n",
    "oracion2 = 'qué dijo fede que fuma'  # Define la oración a analizar\n",
    "# Habría que arreglar la función npdep_parser para que pueda tomar estas dos últimas oraciones\n",
    "grammar2 = 'gramaticas/DG2.txt'       # establece cuál va a ser mi gramática\n",
    "npdep_parser(oracion2, grammar2)        # Para correr la función"
   ]
  },
  {
   "cell_type": "markdown",
   "metadata": {
    "tags": []
   },
   "source": [
    "## PystanfordDependencies"
   ]
  },
  {
   "cell_type": "code",
   "execution_count": 41,
   "metadata": {},
   "outputs": [],
   "source": [
    "import stanza"
   ]
  },
  {
   "cell_type": "code",
   "execution_count": 42,
   "metadata": {},
   "outputs": [],
   "source": [
    "#stanza.download('es') # Baja el modelo para el españo"
   ]
  },
  {
   "cell_type": "code",
   "execution_count": 43,
   "metadata": {},
   "outputs": [
    {
     "name": "stderr",
     "output_type": "stream",
     "text": [
      "2022-06-14 10:32:26 INFO: Loading these models for language: es (Spanish):\n",
      "=======================\n",
      "| Processor | Package |\n",
      "-----------------------\n",
      "| tokenize  | ancora  |\n",
      "| mwt       | ancora  |\n",
      "| pos       | ancora  |\n",
      "| lemma     | ancora  |\n",
      "| depparse  | ancora  |\n",
      "| ner       | conll02 |\n",
      "=======================\n",
      "\n",
      "2022-06-14 10:32:26 INFO: Use device: cpu\n",
      "2022-06-14 10:32:26 INFO: Loading: tokenize\n",
      "2022-06-14 10:32:26 INFO: Loading: mwt\n",
      "2022-06-14 10:32:26 INFO: Loading: pos\n",
      "2022-06-14 10:32:26 INFO: Loading: lemma\n",
      "2022-06-14 10:32:26 INFO: Loading: depparse\n",
      "2022-06-14 10:32:27 INFO: Loading: ner\n",
      "2022-06-14 10:32:28 INFO: Done loading processors!\n"
     ]
    },
    {
     "data": {
      "text/plain": [
       "<stanza.pipeline.core.Pipeline at 0x149247e80>"
      ]
     },
     "execution_count": 43,
     "metadata": {},
     "output_type": "execute_result"
    }
   ],
   "source": [
    "nlp = stanza.Pipeline('es') # Inicializa el modelo de español (con su pipeline de anotación)\n",
    "nlp"
   ]
  },
  {
   "cell_type": "code",
   "execution_count": 47,
   "metadata": {},
   "outputs": [
    {
     "data": {
      "text/plain": [
       "[\n",
       "  [\n",
       "    {\n",
       "      \"id\": 1,\n",
       "      \"text\": \"Pablo\",\n",
       "      \"lemma\": \"Pablo\",\n",
       "      \"upos\": \"PROPN\",\n",
       "      \"xpos\": \"PROPN\",\n",
       "      \"head\": 3,\n",
       "      \"deprel\": \"nsubj\",\n",
       "      \"misc\": \"start_char=0|end_char=5\",\n",
       "      \"ner\": \"B-PER\"\n",
       "    },\n",
       "    {\n",
       "      \"id\": 2,\n",
       "      \"text\": \"Neruda\",\n",
       "      \"lemma\": \"Neruda\",\n",
       "      \"upos\": \"PROPN\",\n",
       "      \"xpos\": \"PROPN\",\n",
       "      \"head\": 1,\n",
       "      \"deprel\": \"flat\",\n",
       "      \"misc\": \"start_char=6|end_char=12\",\n",
       "      \"ner\": \"E-PER\"\n",
       "    },\n",
       "    {\n",
       "      \"id\": 3,\n",
       "      \"text\": \"escribe\",\n",
       "      \"lemma\": \"escribir\",\n",
       "      \"upos\": \"VERB\",\n",
       "      \"xpos\": \"VERB\",\n",
       "      \"feats\": \"Mood=Ind|Number=Sing|Person=3|Tense=Pres|VerbForm=Fin\",\n",
       "      \"head\": 0,\n",
       "      \"deprel\": \"root\",\n",
       "      \"misc\": \"start_char=13|end_char=20\",\n",
       "      \"ner\": \"O\"\n",
       "    },\n",
       "    {\n",
       "      \"id\": 4,\n",
       "      \"text\": \"poemas\",\n",
       "      \"lemma\": \"poema\",\n",
       "      \"upos\": \"NOUN\",\n",
       "      \"xpos\": \"NOUN\",\n",
       "      \"feats\": \"Gender=Masc|Number=Plur\",\n",
       "      \"head\": 3,\n",
       "      \"deprel\": \"obj\",\n",
       "      \"misc\": \"start_char=21|end_char=27\",\n",
       "      \"ner\": \"O\"\n",
       "    },\n",
       "    {\n",
       "      \"id\": 5,\n",
       "      \"text\": \"en\",\n",
       "      \"lemma\": \"en\",\n",
       "      \"upos\": \"ADP\",\n",
       "      \"xpos\": \"ADP\",\n",
       "      \"feats\": \"AdpType=Prep\",\n",
       "      \"head\": 6,\n",
       "      \"deprel\": \"case\",\n",
       "      \"misc\": \"start_char=28|end_char=30\",\n",
       "      \"ner\": \"O\"\n",
       "    },\n",
       "    {\n",
       "      \"id\": 6,\n",
       "      \"text\": \"Capri\",\n",
       "      \"lemma\": \"Capri\",\n",
       "      \"upos\": \"PROPN\",\n",
       "      \"xpos\": \"PROPN\",\n",
       "      \"head\": 3,\n",
       "      \"deprel\": \"obl\",\n",
       "      \"misc\": \"start_char=31|end_char=36\",\n",
       "      \"ner\": \"S-LOC\"\n",
       "    }\n",
       "  ]\n",
       "]"
      ]
     },
     "execution_count": 47,
     "metadata": {},
     "output_type": "execute_result"
    }
   ],
   "source": [
    "doc = nlp(\"Pablo Neruda escribe poemas en Capri\") # Anota una oración\n",
    "doc"
   ]
  },
  {
   "cell_type": "code",
   "execution_count": 48,
   "metadata": {},
   "outputs": [
    {
     "name": "stdout",
     "output_type": "stream",
     "text": [
      "[{\n",
      "  \"text\": \"Pablo Neruda\",\n",
      "  \"type\": \"PER\",\n",
      "  \"start_char\": 0,\n",
      "  \"end_char\": 12\n",
      "}, {\n",
      "  \"text\": \"Capri\",\n",
      "  \"type\": \"LOC\",\n",
      "  \"start_char\": 31,\n",
      "  \"end_char\": 36\n",
      "}]\n"
     ]
    }
   ],
   "source": [
    "print(doc.entities)"
   ]
  },
  {
   "cell_type": "code",
   "execution_count": 71,
   "metadata": {},
   "outputs": [
    {
     "name": "stdout",
     "output_type": "stream",
     "text": [
      "('el', 2, 'det')\n",
      "('poeta', 4, 'nsubj')\n",
      "('chileno', 2, 'amod')\n",
      "('escribe', 0, 'root')\n",
      "('poemas', 4, 'obj')\n",
      "('.', 4, 'punct')\n"
     ]
    }
   ],
   "source": [
    "doc.sentences[0].print_dependencies()"
   ]
  },
  {
   "cell_type": "code",
   "execution_count": 50,
   "metadata": {},
   "outputs": [
    {
     "data": {
      "text/plain": [
       "[({\n",
       "    \"id\": 3,\n",
       "    \"text\": \"escribe\",\n",
       "    \"lemma\": \"escribir\",\n",
       "    \"upos\": \"VERB\",\n",
       "    \"xpos\": \"VERB\",\n",
       "    \"feats\": \"Mood=Ind|Number=Sing|Person=3|Tense=Pres|VerbForm=Fin\",\n",
       "    \"head\": 0,\n",
       "    \"deprel\": \"root\",\n",
       "    \"misc\": \"start_char=13|end_char=20\"\n",
       "  },\n",
       "  'nsubj',\n",
       "  {\n",
       "    \"id\": 1,\n",
       "    \"text\": \"Pablo\",\n",
       "    \"lemma\": \"Pablo\",\n",
       "    \"upos\": \"PROPN\",\n",
       "    \"xpos\": \"PROPN\",\n",
       "    \"head\": 3,\n",
       "    \"deprel\": \"nsubj\",\n",
       "    \"misc\": \"start_char=0|end_char=5\"\n",
       "  }),\n",
       " ({\n",
       "    \"id\": 1,\n",
       "    \"text\": \"Pablo\",\n",
       "    \"lemma\": \"Pablo\",\n",
       "    \"upos\": \"PROPN\",\n",
       "    \"xpos\": \"PROPN\",\n",
       "    \"head\": 3,\n",
       "    \"deprel\": \"nsubj\",\n",
       "    \"misc\": \"start_char=0|end_char=5\"\n",
       "  },\n",
       "  'flat',\n",
       "  {\n",
       "    \"id\": 2,\n",
       "    \"text\": \"Neruda\",\n",
       "    \"lemma\": \"Neruda\",\n",
       "    \"upos\": \"PROPN\",\n",
       "    \"xpos\": \"PROPN\",\n",
       "    \"head\": 1,\n",
       "    \"deprel\": \"flat\",\n",
       "    \"misc\": \"start_char=6|end_char=12\"\n",
       "  }),\n",
       " ({\n",
       "    \"id\": 0,\n",
       "    \"text\": \"ROOT\"\n",
       "  },\n",
       "  'root',\n",
       "  {\n",
       "    \"id\": 3,\n",
       "    \"text\": \"escribe\",\n",
       "    \"lemma\": \"escribir\",\n",
       "    \"upos\": \"VERB\",\n",
       "    \"xpos\": \"VERB\",\n",
       "    \"feats\": \"Mood=Ind|Number=Sing|Person=3|Tense=Pres|VerbForm=Fin\",\n",
       "    \"head\": 0,\n",
       "    \"deprel\": \"root\",\n",
       "    \"misc\": \"start_char=13|end_char=20\"\n",
       "  }),\n",
       " ({\n",
       "    \"id\": 3,\n",
       "    \"text\": \"escribe\",\n",
       "    \"lemma\": \"escribir\",\n",
       "    \"upos\": \"VERB\",\n",
       "    \"xpos\": \"VERB\",\n",
       "    \"feats\": \"Mood=Ind|Number=Sing|Person=3|Tense=Pres|VerbForm=Fin\",\n",
       "    \"head\": 0,\n",
       "    \"deprel\": \"root\",\n",
       "    \"misc\": \"start_char=13|end_char=20\"\n",
       "  },\n",
       "  'obj',\n",
       "  {\n",
       "    \"id\": 4,\n",
       "    \"text\": \"poemas\",\n",
       "    \"lemma\": \"poema\",\n",
       "    \"upos\": \"NOUN\",\n",
       "    \"xpos\": \"NOUN\",\n",
       "    \"feats\": \"Gender=Masc|Number=Plur\",\n",
       "    \"head\": 3,\n",
       "    \"deprel\": \"obj\",\n",
       "    \"misc\": \"start_char=21|end_char=27\"\n",
       "  }),\n",
       " ({\n",
       "    \"id\": 6,\n",
       "    \"text\": \"Capri\",\n",
       "    \"lemma\": \"Capri\",\n",
       "    \"upos\": \"PROPN\",\n",
       "    \"xpos\": \"PROPN\",\n",
       "    \"head\": 3,\n",
       "    \"deprel\": \"obl\",\n",
       "    \"misc\": \"start_char=31|end_char=36\"\n",
       "  },\n",
       "  'case',\n",
       "  {\n",
       "    \"id\": 5,\n",
       "    \"text\": \"en\",\n",
       "    \"lemma\": \"en\",\n",
       "    \"upos\": \"ADP\",\n",
       "    \"xpos\": \"ADP\",\n",
       "    \"feats\": \"AdpType=Prep\",\n",
       "    \"head\": 6,\n",
       "    \"deprel\": \"case\",\n",
       "    \"misc\": \"start_char=28|end_char=30\"\n",
       "  }),\n",
       " ({\n",
       "    \"id\": 3,\n",
       "    \"text\": \"escribe\",\n",
       "    \"lemma\": \"escribir\",\n",
       "    \"upos\": \"VERB\",\n",
       "    \"xpos\": \"VERB\",\n",
       "    \"feats\": \"Mood=Ind|Number=Sing|Person=3|Tense=Pres|VerbForm=Fin\",\n",
       "    \"head\": 0,\n",
       "    \"deprel\": \"root\",\n",
       "    \"misc\": \"start_char=13|end_char=20\"\n",
       "  },\n",
       "  'obl',\n",
       "  {\n",
       "    \"id\": 6,\n",
       "    \"text\": \"Capri\",\n",
       "    \"lemma\": \"Capri\",\n",
       "    \"upos\": \"PROPN\",\n",
       "    \"xpos\": \"PROPN\",\n",
       "    \"head\": 3,\n",
       "    \"deprel\": \"obl\",\n",
       "    \"misc\": \"start_char=31|end_char=36\"\n",
       "  })]"
      ]
     },
     "execution_count": 50,
     "metadata": {},
     "output_type": "execute_result"
    }
   ],
   "source": [
    "doc.sentences[0].dependencies"
   ]
  },
  {
   "cell_type": "code",
   "execution_count": 60,
   "metadata": {},
   "outputs": [
    {
     "data": {
      "text/plain": [
       "[\n",
       "  [\n",
       "    {\n",
       "      \"id\": 1,\n",
       "      \"text\": \"el\",\n",
       "      \"lemma\": \"el\",\n",
       "      \"upos\": \"DET\",\n",
       "      \"xpos\": \"DET\",\n",
       "      \"feats\": \"Definite=Def|Gender=Masc|Number=Sing|PronType=Art\",\n",
       "      \"head\": 2,\n",
       "      \"deprel\": \"det\",\n",
       "      \"misc\": \"start_char=0|end_char=2\",\n",
       "      \"ner\": \"O\"\n",
       "    },\n",
       "    {\n",
       "      \"id\": 2,\n",
       "      \"text\": \"poeta\",\n",
       "      \"lemma\": \"poeta\",\n",
       "      \"upos\": \"NOUN\",\n",
       "      \"xpos\": \"NOUN\",\n",
       "      \"feats\": \"Gender=Masc|Number=Sing\",\n",
       "      \"head\": 4,\n",
       "      \"deprel\": \"nsubj\",\n",
       "      \"misc\": \"start_char=3|end_char=8\",\n",
       "      \"ner\": \"O\"\n",
       "    },\n",
       "    {\n",
       "      \"id\": 3,\n",
       "      \"text\": \"chileno\",\n",
       "      \"lemma\": \"chileno\",\n",
       "      \"upos\": \"ADJ\",\n",
       "      \"xpos\": \"ADJ\",\n",
       "      \"feats\": \"Gender=Masc|Number=Sing\",\n",
       "      \"head\": 2,\n",
       "      \"deprel\": \"amod\",\n",
       "      \"misc\": \"start_char=9|end_char=16\",\n",
       "      \"ner\": \"O\"\n",
       "    },\n",
       "    {\n",
       "      \"id\": 4,\n",
       "      \"text\": \"escribe\",\n",
       "      \"lemma\": \"escribir\",\n",
       "      \"upos\": \"VERB\",\n",
       "      \"xpos\": \"VERB\",\n",
       "      \"feats\": \"Mood=Ind|Number=Sing|Person=3|Tense=Pres|VerbForm=Fin\",\n",
       "      \"head\": 0,\n",
       "      \"deprel\": \"root\",\n",
       "      \"misc\": \"start_char=17|end_char=24\",\n",
       "      \"ner\": \"O\"\n",
       "    },\n",
       "    {\n",
       "      \"id\": 5,\n",
       "      \"text\": \"poemas\",\n",
       "      \"lemma\": \"poema\",\n",
       "      \"upos\": \"NOUN\",\n",
       "      \"xpos\": \"NOUN\",\n",
       "      \"feats\": \"Gender=Masc|Number=Plur\",\n",
       "      \"head\": 4,\n",
       "      \"deprel\": \"obj\",\n",
       "      \"misc\": \"start_char=25|end_char=31\",\n",
       "      \"ner\": \"O\"\n",
       "    },\n",
       "    {\n",
       "      \"id\": 6,\n",
       "      \"text\": \".\",\n",
       "      \"lemma\": \".\",\n",
       "      \"upos\": \"PUNCT\",\n",
       "      \"xpos\": \"PUNCT\",\n",
       "      \"feats\": \"PunctType=Peri\",\n",
       "      \"head\": 4,\n",
       "      \"deprel\": \"punct\",\n",
       "      \"misc\": \"start_char=31|end_char=32\",\n",
       "      \"ner\": \"O\"\n",
       "    }\n",
       "  ]\n",
       "]"
      ]
     },
     "execution_count": 60,
     "metadata": {},
     "output_type": "execute_result"
    }
   ],
   "source": [
    "doc = nlp(\"el poeta chileno escribe poemas.\")\n",
    "doc"
   ]
  },
  {
   "cell_type": "code",
   "execution_count": 61,
   "metadata": {},
   "outputs": [
    {
     "data": {
      "text/plain": [
       "[]"
      ]
     },
     "execution_count": 61,
     "metadata": {},
     "output_type": "execute_result"
    }
   ],
   "source": [
    "doc.entities"
   ]
  },
  {
   "cell_type": "code",
   "execution_count": 62,
   "metadata": {},
   "outputs": [
    {
     "name": "stdout",
     "output_type": "stream",
     "text": [
      "('el', 2, 'det')\n",
      "('poeta', 4, 'nsubj')\n",
      "('chileno', 2, 'amod')\n",
      "('escribe', 0, 'root')\n",
      "('poemas', 4, 'obj')\n",
      "('.', 4, 'punct')\n"
     ]
    }
   ],
   "source": [
    "doc.sentences[0].print_dependencies()"
   ]
  },
  {
   "cell_type": "code",
   "execution_count": 57,
   "metadata": {},
   "outputs": [],
   "source": [
    "def extraer_entidades(stanza_oracion):\n",
    "    entidades = [] # Creo una lista vacía donde voy a guardar todas las entidades que encuentre en la oración\n",
    "    for dependencia in stanza_oracion.dependencies: # Recorro las dependencias\n",
    "        regidor, relacion, dependiente = dependencia # Las dependencias son tuplas de tres elementos que puedo separar\n",
    "                                                     # en variables\n",
    "        if regidor.deprel == \"nsubj\": # Asumimos que queremos encontrar los sujetos, pero podríamos comparar por PoS\n",
    "                                      # ¿Cómo?\n",
    "            entidad = [regidor]       # Creo una lista cuyo miembro inicial es el nucleo de la construccion\n",
    "            for palabra in stanza_oracion.words: # Vuelvo a recorrer las palabras de la oración para encontrar\n",
    "                                                 # todos los dependientes del sujeto, sean anteriores o posteriores\n",
    "                if palabra.head == int(regidor.id): # Si el nucleo/regidor/head de una palabra coincide con el id\n",
    "                    entidad.append(palabra)         # del núcleo de mi construcción, lo sumo a la lista de la entidad\n",
    "            entidad = sorted(entidad, key=lambda x: x.id) # Ordeno la lista resultante por su número de id para \n",
    "                                                          # mantener la linealidad del texto.\n",
    "            if entidad not in entidades:            # Chequeo que la entidad ya no exista en mi lista porque\n",
    "                entidades.append(entidad)           # el regidor puede aparecer en más de una dependencia.\n",
    "            \n",
    "    return [\" \".join([palabra.text for palabra in entidad]) for entidad in entidades] # Me quedo únicamente con el \n",
    "                                                       # texto de cada objeto Word y lo devuelvo unido por entidad"
   ]
  },
  {
   "cell_type": "code",
   "execution_count": 58,
   "metadata": {},
   "outputs": [
    {
     "data": {
      "text/plain": [
       "['el poeta chileno']"
      ]
     },
     "execution_count": 58,
     "metadata": {},
     "output_type": "execute_result"
    }
   ],
   "source": [
    "extraer_entidades(doc.sentences[0])"
   ]
  },
  {
   "cell_type": "code",
   "execution_count": 59,
   "metadata": {},
   "outputs": [
    {
     "data": {
      "text/plain": [
       "2"
      ]
     },
     "execution_count": 59,
     "metadata": {},
     "output_type": "execute_result"
    }
   ],
   "source": [
    "doc.sentences[0].words[0].head"
   ]
  },
  {
   "cell_type": "markdown",
   "metadata": {},
   "source": [
    "## FreeLing"
   ]
  },
  {
   "cell_type": "markdown",
   "metadata": {},
   "source": [
    "FreeLing posee su propio server gratuito que disponibiliza el pipeline de la librería. También se puede descargar\n",
    "y correr como un programa local e incluso cuenta con una implementación en Python. Hoy vamos a probar FreeLing \n",
    "en su [demo visual](https://nlp.lsi.upc.edu/freeling/demo/demo.php).\n",
    "\n",
    "Si hay dudas con el uso de tags de PoS, se pueden revisar rápudamente en esta página: [Descripción del Tagset](https://www.sketchengine.eu/spanish-freeling-part-of-speech-tagset/)"
   ]
  },
  {
   "cell_type": "code",
   "execution_count": 64,
   "metadata": {},
   "outputs": [],
   "source": [
    "# Sugerencias para probar:\n",
    "# A las 4 de la tarde tomo leche y como tostadas.\n",
    "# No tengo más sueño.\n",
    "# ¿A quién dijiste que viste el sábado?\n",
    "# Dije que vi a mi tía.\n",
    "# Pablo Neruda escribe poemas en Capri.\n",
    "# pablo neruda escribe poemas en capri."
   ]
  },
  {
   "cell_type": "markdown",
   "metadata": {},
   "source": [
    "## Malt Parser"
   ]
  },
  {
   "cell_type": "markdown",
   "metadata": {},
   "source": [
    "A continuación:\n",
    "\n",
    "- Descargamos Malt Parser en su versión 1.9.2 desde http://maltparser.org/dist/maltparser-1.9.2.tar.gz y lo descomprimimos con el comando `tar`\n",
    "- El proceso anterior nos tiene que haber creado una carpeta llamada `maltparser-1.9.2`\n",
    "- Bajamos modelo entrenado engmalt.poly-1.7 de http://www.maltparser.org/mco/english_parser/engmalt.poly-1.7.mco a la carpeta `maltparser-1.9.2`"
   ]
  },
  {
   "cell_type": "code",
   "execution_count": null,
   "metadata": {},
   "outputs": [],
   "source": [
    "# descarga maltparser desde la url indicada en una carpeta llamada maltparser-1.9.2 (la crea)\n",
    "! wget -qO- http://maltparser.org/dist/maltparser-1.9.2.tar.gz | tar -xvz > /dev/null\n",
    "\n",
    "# descarga el modelo engmalt.poly-1.7 en la carpeta maltparser-1.9.2\n",
    "! wget -P maltparser-1.9.2 http://www.maltparser.org/mco/english_parser/engmalt.poly-1.7.mco"
   ]
  },
  {
   "cell_type": "markdown",
   "metadata": {},
   "source": [
    "- obtenemos el path absoluto a donde está ubicada esta notebook (`os.path.abspath('.')`)\n",
    "- unimos esa ubicación con el nombre de la carpeta `maltparser-1.9.2` y hacemos lo mismo con ese resultado y el archivo del modelo (`engmalt.poly-1.7.mco`)\n",
    "- alojamos ambos paths como variables de entorno"
   ]
  },
  {
   "cell_type": "code",
   "execution_count": null,
   "metadata": {},
   "outputs": [],
   "source": [
    "import os\n",
    "\n",
    "here = os.path.abspath('.')\n",
    "print('here es: ', here)\n",
    "maltparser_folder = 'maltparser-1.9.2'"
   ]
  },
  {
   "cell_type": "code",
   "execution_count": null,
   "metadata": {},
   "outputs": [],
   "source": [
    "print(os.getenv('MALT_PARSER'))"
   ]
  },
  {
   "cell_type": "code",
   "execution_count": null,
   "metadata": {},
   "outputs": [],
   "source": [
    "os.environ['MALT_PARSER'] = os.path.join(here, maltparser_folder, '')\n",
    "os.environ['MALT_MODEL'] = os.path.join(here, maltparser_folder, 'engmalt.poly-1.7.mco')"
   ]
  },
  {
   "cell_type": "code",
   "execution_count": null,
   "metadata": {},
   "outputs": [],
   "source": [
    "print(os.getenv('MALT_PARSER'))"
   ]
  },
  {
   "cell_type": "code",
   "execution_count": null,
   "metadata": {},
   "outputs": [],
   "source": [
    "! echo $MALT_PARSER"
   ]
  },
  {
   "cell_type": "code",
   "execution_count": null,
   "metadata": {},
   "outputs": [],
   "source": [
    "maltParser = nltk.parse.malt.MaltParser(os.getenv('MALT_PARSER'), os.getenv('MALT_MODEL'))"
   ]
  },
  {
   "cell_type": "code",
   "execution_count": null,
   "metadata": {},
   "outputs": [],
   "source": [
    "oracion_malt = 'John saw Mary with her new dress'\n",
    "stemma = maltParser.parse_one(oracion_malt.split()).tree()\n",
    "print(stemma)"
   ]
  },
  {
   "cell_type": "markdown",
   "metadata": {},
   "source": [
    "## Spacy - Dependency parser"
   ]
  },
  {
   "cell_type": "markdown",
   "metadata": {},
   "source": [
    "**Nota para quien no tenga la MV:**\n",
    "\n",
    "Antes de correr hay que instalar spacy. Con pip3, eso se puede hacer con el comando \n",
    "\n",
    "`pip3 install spacy`\n",
    "\n",
    "Hay que instalar también es_core_news_sm, un modelo entrenado mediante un corpus del español, con el comando\n",
    "\n",
    "`python3 -m spacy download es_core_news_sm`\n",
    "\n",
    "Alternativamente puede probarse de instalar es_core_news_md.\n",
    "\n",
    "`python3 -m spacy download es_core_news_md`\n",
    "\n",
    "En ese caso, para correrlo hay que cambiar en el código de abajo `es_core_news_sm` por `es_core_news_md`."
   ]
  },
  {
   "cell_type": "code",
   "execution_count": null,
   "metadata": {},
   "outputs": [],
   "source": [
    "# Carga el modelo\n",
    "nlp = spacy.load('es_core_news_sm')\n",
    "\n",
    "# Procesa la oración\n",
    "sent = \"¿quiénes dijo Juan que estornudaron?\"\n",
    "doc = nlp(sent)\n",
    "\n",
    "#options = {\"compact\": True, \"bg\": \"#09a3d5\",\"color\": \"white\", \"font\": \"Source Sans Pro\"}\n",
    "# Visualización\n",
    "spacy.displacy.render(doc, style=\"dep\")"
   ]
  },
  {
   "cell_type": "code",
   "execution_count": null,
   "metadata": {},
   "outputs": [],
   "source": [
    "def gramaticadependencias(sentence):                # Define la función\n",
    "    nlp = spacy.load('es_core_news_sm')             # Carga el modelo entrenado\n",
    "    doc = nlp(sentence)                             # Procesa la oración con el modelo\n",
    "    displacy.render(doc, style='dep', jupyter=True) # Visualiza"
   ]
  },
  {
   "cell_type": "code",
   "execution_count": null,
   "metadata": {},
   "outputs": [],
   "source": [
    "oracion_spacy = input('Escribí una oración\\n')\n",
    "gramaticadependencias(oracion_spacy)"
   ]
  },
  {
   "cell_type": "code",
   "execution_count": null,
   "metadata": {},
   "outputs": [],
   "source": [
    "nlp = spacy.load('es_core_news_sm')\n",
    "doc = nlp(oracion5)\n",
    "root = [token for token in doc if token.head == token][0]\n",
    "print('| {0:10}| {1:5}| {2:7}| {3:7}| {4:30} |'.format('TEXTO','DEP','N_IZQ','N_DER','ANCESTROS'))\n",
    "print('|'+'='*69+'|')\n",
    "for descendant in root.subtree:\n",
    "    assert root is descendant or root.is_ancestor(descendant)\n",
    "    print('| {0:10}| {1:5}| {2:7}| {3:7}| {4:30} |'.format(\n",
    "        descendant.text,\n",
    "        descendant.dep_,\n",
    "        descendant.n_lefts,\n",
    "        descendant.n_rights,\n",
    "        str([ancestor.text for ancestor in descendant.ancestors])\n",
    "    )\n",
    ")"
   ]
  }
 ],
 "metadata": {
  "kernelspec": {
   "display_name": "Python 3 (ipykernel)",
   "language": "python",
   "name": "python3"
  },
  "language_info": {
   "codemirror_mode": {
    "name": "ipython",
    "version": 3
   },
   "file_extension": ".py",
   "mimetype": "text/x-python",
   "name": "python",
   "nbconvert_exporter": "python",
   "pygments_lexer": "ipython3",
   "version": "3.10.0"
  }
 },
 "nbformat": 4,
 "nbformat_minor": 4
}
