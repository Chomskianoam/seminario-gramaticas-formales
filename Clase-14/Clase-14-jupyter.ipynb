{
 "cells": [
  {
   "cell_type": "markdown",
   "metadata": {},
   "source": [
    "# Gramáticas categoriales con rasgos"
   ]
  },
  {
   "cell_type": "markdown",
   "metadata": {},
   "source": [
    "## Requerimientos"
   ]
  },
  {
   "cell_type": "code",
   "execution_count": 1,
   "metadata": {},
   "outputs": [],
   "source": [
    "import nltk \n",
    "import re \n",
    "from nltk.ccg import lexicon, chart \n",
    "from nltk.ccg.chart import printCCGDerivation"
   ]
  },
  {
   "cell_type": "markdown",
   "metadata": {},
   "source": [
    "Las gramáticas categoriales están conformadas principalmente por un conjunto reducido de reglas y un léxico sumamente rico.\n",
    "Las reglas que utiliza OpenCCG, que es el parser categorial que vamos a ver son las siguientes:"
   ]
  },
  {
   "cell_type": "markdown",
   "metadata": {
    "jupyter": {
     "source_hidden": true
    },
    "tags": []
   },
   "source": [
    "![reglas categoriales](reglascategorialesopenccg.png)"
   ]
  },
  {
   "cell_type": "markdown",
   "metadata": {},
   "source": [
    "Construir una gramática categorial consiste principalmente en elaborar un léxico lo suficientemente rico, ya que las gramáticas categoriales son fuertemente lexicalistas. En ellas, la categoría a la que pertenece cada entrada léxica codifica sus posibilidades combinatorias."
   ]
  },
  {
   "cell_type": "markdown",
   "metadata": {},
   "source": [
    "## Gramática categorial combinatoria con rasgos en NLTK"
   ]
  },
  {
   "cell_type": "code",
   "execution_count": 12,
   "metadata": {},
   "outputs": [],
   "source": [
    "#Combinatory Categorial Grammar with features\n",
    "# Esta hay que revisarla y ver cómo se corrige para que funcione\n",
    "\n",
    "def combinatory_parser(sentence, grammar):   \n",
    "    sentence = sentence.lower()                                     # convierte a minúscula\n",
    "    if sentence.endswith('.'):                                      # si la oración termina con un punto\n",
    "        sent = re.sub('\\.',' ',sentence)                            # se lo quita\n",
    "    else:                                                           # si no\n",
    "        sent = sentence                                             # la toma como está\n",
    "    sent = sent.split()\n",
    "    codigogram = nltk.data.load(grammar)              # carga la gramática a nltk\n",
    "    lex = lexicon.fromstring(codigogram)\n",
    "    print(lex)\n",
    "    parser = chart.CCGChartParser(lex, chart.DefaultRuleSet)\n",
    "    parses = list(parser.parse(sent))\n",
    "    quantparses = len(parses)\n",
    "    print(str(quantparses) + \" parses\")\n",
    "    print(sent)\n",
    "    parseslist = 0\n",
    "    def showccgparses(parseslist1, quantparses1):\n",
    "        if parseslist1 < quantparses1:\n",
    "            printCCGDerivation(parses[parseslist1])\n",
    "            parseslist2 = parseslist1 + 1\n",
    "            showccgparses(parseslist2, quantparses1)\n",
    "        elif parseslist == quantparses: \n",
    "            printCCGDerivation(parses[parseslist])\n",
    "    if quantparses == 0:\n",
    "        print('No se encontraron estructuras para imprimir')\n",
    "    elif quantparses > 0:\n",
    "        showccgparses(parseslist, quantparses)"
   ]
  },
  {
   "cell_type": "code",
   "execution_count": null,
   "metadata": {},
   "outputs": [],
   "source": [
    "grammar = 'gramaticas/FCG1.txt'\n",
    "oracion5 = 'julia fuma'\n",
    "combinatory_parser(oracion5, grammar)"
   ]
  },
  {
   "cell_type": "code",
   "execution_count": null,
   "metadata": {},
   "outputs": [],
   "source": [
    "grammar = 'gramaticas/FCG2.txt'\n",
    "oracion5 = 'you prefer that cake'\n",
    "combinatory_parser(oracion5, grammar)"
   ]
  },
  {
   "cell_type": "code",
   "execution_count": null,
   "metadata": {},
   "outputs": [],
   "source": [
    "grammar = 'gramaticas/FCG3.txt'\n",
    "#oracion6 = 'ella fuma'\n",
    "oracion6 = 'la persona fuma'\n",
    "#oracion6 = 'la pesona fuma el cigarrillo' \n",
    "#oracion6 = 'la plaza fuma' # Pregunta a estudiantes: ¿por qué da agramatical?\n",
    "combinatory_parser(oracion6, grammar)"
   ]
  },
  {
   "cell_type": "markdown",
   "metadata": {
    "jp-MarkdownHeadingCollapsed": true,
    "tags": []
   },
   "source": [
    "## Gramática categorial con anotación semántica"
   ]
  },
  {
   "cell_type": "code",
   "execution_count": null,
   "metadata": {},
   "outputs": [],
   "source": [
    "def ccgsemparse(sentence, grammar):\n",
    "    sentence = sentence.lower()                                     # convierte a minúscula\n",
    "    if sentence.endswith('.'):                                      # si la oración termina con un punto\n",
    "        sent = re.sub('\\.',' ',sentence)                            # se lo quita\n",
    "    else:                                                           # si no\n",
    "        sent = sentence                                             # la toma como está\n",
    "    sent = sent.split()   \n",
    "    codigogram = nltk.data.load(grammar)              # carga la gramática a nltk\n",
    "    print(codigogram)\n",
    "    print(type(codigogram))\n",
    "    lex = lexicon.fromstring(codigogram, True)\n",
    "    print(lex)\n",
    "    parser = chart.CCGChartParser(lex, chart.DefaultRuleSet)\n",
    "    parses = list(parser.parse(sent))\n",
    "    quantparses = len(parses)\n",
    "    print(str(quantparses) + \" parses\")\n",
    "    print(sent)\n",
    "    parseslist = 0\n",
    "    def showccgparses(parseslist1, quantparses1):\n",
    "        if parseslist1 < quantparses1:\n",
    "            printCCGDerivation(parses[parseslist1])\n",
    "            parseslist2 = parseslist1 + 1\n",
    "            showccgparses(parseslist2, quantparses1)\n",
    "        elif parseslist == quantparses: \n",
    "            printCCGDerivation(parses[parseslist])\n",
    "    if quantparses == 0:\n",
    "        print('No se encontraron estructuras para imprimir')\n",
    "    elif quantparses > 0:\n",
    "        showccgparses(parseslist, quantparses)"
   ]
  },
  {
   "cell_type": "code",
   "execution_count": null,
   "metadata": {},
   "outputs": [],
   "source": [
    "oracion6= \"pablo fuma\"\n",
    "#oracion6 = 'juan dio fernando a romi'\n",
    "grammar3 = 'gramaticas/SCG1.txt'\n",
    "ccgsemparse(oracion6, grammar3)"
   ]
  },
  {
   "cell_type": "code",
   "execution_count": null,
   "metadata": {},
   "outputs": [],
   "source": [
    "oracion6 = 'I give them money'\n",
    "grammar3 = 'gramaticas/SCG2.txt'\n",
    "ccgsemparse(oracion6, grammar3)"
   ]
  },
  {
   "cell_type": "markdown",
   "metadata": {},
   "source": [
    "## Para TP4"
   ]
  },
  {
   "cell_type": "code",
   "execution_count": 14,
   "metadata": {},
   "outputs": [
    {
     "name": "stdout",
     "output_type": "stream",
     "text": [
      "cansada => A['fem']\n",
      "cansado => A['masc']\n",
      "carne => NC['fem','inanim']\n",
      "come => ((S\\NP['masc','anim'])/NP['inanim']) | ((S\\NP['fem','anim'])/NP['inanim'])\n",
      "corre => (S\\NP['anim'])\n",
      "el => (NP['masc','anim']/NC['masc','anim'])\n",
      "está => ((S\\NP['masc','anim'])/A['masc']) | ((S\\NP['fem','anim'])/A['fem'])\n",
      "la => (NP['fem','anim']/NC['fem','anim']) | (NP['inanim']/NC['fem','inanim'])\n",
      "leona => NC['fem','anim']\n",
      "león => NC['masc','anim']\n",
      "3 parses\n",
      "['la', 'leona', 'está', 'cansada']\n",
      "                 la                        leona                     está                cansada\n",
      " (NP['fem','anim']/NC['fem','anim'])  NC['fem','anim']  ((S\\NP['fem','anim'])/A['fem'])  A['fem']\n",
      "------------------------------------------------------->\n",
      "                   NP['fem','anim']\n",
      "                                                       ------------------------------------------->\n",
      "                                                                  (S\\NP['fem','anim'])\n",
      "--------------------------------------------------------------------------------------------------<\n",
      "                                                S\n",
      "                 la                        leona                     está                cansada\n",
      " (NP['fem','anim']/NC['fem','anim'])  NC['fem','anim']  ((S\\NP['fem','anim'])/A['fem'])  A['fem']\n",
      "------------------------------------------------------->\n",
      "                   NP['fem','anim']\n",
      "------------------------------------------------------->T\n",
      "               (S/(S\\NP['fem','anim']))\n",
      "                                                       ------------------------------------------->\n",
      "                                                                  (S\\NP['fem','anim'])\n",
      "-------------------------------------------------------------------------------------------------->\n",
      "                                                S\n",
      "                 la                        leona                     está                cansada\n",
      " (NP['fem','anim']/NC['fem','anim'])  NC['fem','anim']  ((S\\NP['fem','anim'])/A['fem'])  A['fem']\n",
      "------------------------------------------------------->\n",
      "                   NP['fem','anim']\n",
      "------------------------------------------------------->T\n",
      "               (S/(S\\NP['fem','anim']))\n",
      "---------------------------------------------------------------------------------------->B\n",
      "                                      (S/A['fem'])\n",
      "-------------------------------------------------------------------------------------------------->\n",
      "                                                S\n"
     ]
    }
   ],
   "source": [
    "grammar = 'gramaticas/tp4.txt'\n",
    "#oraciontp = 'El león corre'\n",
    "#oraciontp = 'La leona corre'\n",
    "#oraciontp = 'El leona corre'\n",
    "#oraciontp = 'La león corre'\n",
    "#oraciontp = 'El león está cansado'\n",
    "#oraciontp = 'El león está cansada'\n",
    "#oraciontp = 'El leona está cansado'\n",
    "#oraciontp = 'El leona está cansado'\n",
    "#oraciontp = 'La león está cansado'\n",
    "#oraciontp = 'La león está cansada'\n",
    "#oraciontp = 'La leona está cansado'\n",
    "oraciontp = 'La leona está cansada'\n",
    "#oraciontp = 'El león come la carne'\n",
    "#oraciontp = 'La leona come la carne'\n",
    "#oraciontp = 'La carne come el león'\n",
    "#oraciontp= 'La carne como la leona'\n",
    "#oraciontp = 'La carne está cansada'\n",
    "#oraciontp = 'La carne corre'\n",
    "combinatory_parser(oraciontp, grammar)"
   ]
  },
  {
   "cell_type": "code",
   "execution_count": 10,
   "metadata": {},
   "outputs": [
    {
     "name": "stdout",
     "output_type": "stream",
     "text": [
      "El león corre\n",
      "1 parses\n",
      "La leona corre\n",
      "1 parses\n",
      "El leona corre\n",
      "0 parses\n",
      "No se encontraron estructuras para imprimir\n",
      "La león corre\n",
      "0 parses\n",
      "No se encontraron estructuras para imprimir\n",
      "El león está cansado\n",
      "3 parses\n",
      "El león está cansada\n",
      "0 parses\n",
      "No se encontraron estructuras para imprimir\n",
      "El leona está cansado\n",
      "0 parses\n",
      "No se encontraron estructuras para imprimir\n",
      "El leona está cansado\n",
      "0 parses\n",
      "No se encontraron estructuras para imprimir\n",
      "La león está cansado\n",
      "0 parses\n",
      "No se encontraron estructuras para imprimir\n",
      "La león está cansada\n",
      "0 parses\n",
      "No se encontraron estructuras para imprimir\n",
      "La leona está cansado\n",
      "0 parses\n",
      "No se encontraron estructuras para imprimir\n",
      "La leona está cansada\n",
      "3 parses\n",
      "El león come la carne\n",
      "7 parses\n",
      "La leona come la carne\n",
      "7 parses\n",
      "La carne come el león\n",
      "0 parses\n",
      "No se encontraron estructuras para imprimir\n",
      "La carne como la leona\n",
      "0 parses\n",
      "No se encontraron estructuras para imprimir\n",
      "La carne está cansada\n",
      "0 parses\n",
      "No se encontraron estructuras para imprimir\n",
      "La carne corre\n",
      "0 parses\n",
      "No se encontraron estructuras para imprimir\n"
     ]
    }
   ],
   "source": [
    "oraciones= ['El león corre','La leona corre','El leona corre','La león corre',\n",
    "            'El león está cansado', 'El león está cansada','El leona está cansado', 'El leona está cansado',\n",
    "            'La león está cansado', 'La león está cansada', 'La leona está cansado', 'La leona está cansada',\n",
    "            'El león come la carne','La leona come la carne','La carne come el león','La carne como la leona',\n",
    "            'La carne está cansada', 'La carne corre']\n",
    "for o in oraciones:\n",
    "    print(o)\n",
    "    combinatory_parser(o, grammar)"
   ]
  }
 ],
 "metadata": {
  "kernelspec": {
   "display_name": "Python 3",
   "language": "python",
   "name": "python3"
  },
  "language_info": {
   "codemirror_mode": {
    "name": "ipython",
    "version": 3
   },
   "file_extension": ".py",
   "mimetype": "text/x-python",
   "name": "python",
   "nbconvert_exporter": "python",
   "pygments_lexer": "ipython3",
   "version": "3.8.10"
  }
 },
 "nbformat": 4,
 "nbformat_minor": 4
}
